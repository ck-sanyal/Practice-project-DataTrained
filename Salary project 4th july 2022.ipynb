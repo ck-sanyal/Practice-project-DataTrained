{
 "cells": [
  {
   "cell_type": "code",
   "execution_count": 1,
   "id": "73fa34a6",
   "metadata": {},
   "outputs": [],
   "source": [
    "import pandas as pd\n",
    "import numpy as np"
   ]
  },
  {
   "cell_type": "code",
   "execution_count": 2,
   "id": "d690aa26",
   "metadata": {},
   "outputs": [],
   "source": [
    "df=pd.read_csv('https://raw.githubusercontent.com/dsrscientist/dataset3/main/Salaries.csv')"
   ]
  },
  {
   "cell_type": "code",
   "execution_count": 3,
   "id": "802a6f9f",
   "metadata": {
    "scrolled": true
   },
   "outputs": [
    {
     "data": {
      "text/html": [
       "<div>\n",
       "<style scoped>\n",
       "    .dataframe tbody tr th:only-of-type {\n",
       "        vertical-align: middle;\n",
       "    }\n",
       "\n",
       "    .dataframe tbody tr th {\n",
       "        vertical-align: top;\n",
       "    }\n",
       "\n",
       "    .dataframe thead th {\n",
       "        text-align: right;\n",
       "    }\n",
       "</style>\n",
       "<table border=\"1\" class=\"dataframe\">\n",
       "  <thead>\n",
       "    <tr style=\"text-align: right;\">\n",
       "      <th></th>\n",
       "      <th>rank</th>\n",
       "      <th>discipline</th>\n",
       "      <th>yrs.since.phd</th>\n",
       "      <th>yrs.service</th>\n",
       "      <th>sex</th>\n",
       "      <th>salary</th>\n",
       "    </tr>\n",
       "  </thead>\n",
       "  <tbody>\n",
       "    <tr>\n",
       "      <th>0</th>\n",
       "      <td>Prof</td>\n",
       "      <td>B</td>\n",
       "      <td>19</td>\n",
       "      <td>18</td>\n",
       "      <td>Male</td>\n",
       "      <td>139750</td>\n",
       "    </tr>\n",
       "    <tr>\n",
       "      <th>1</th>\n",
       "      <td>Prof</td>\n",
       "      <td>B</td>\n",
       "      <td>20</td>\n",
       "      <td>16</td>\n",
       "      <td>Male</td>\n",
       "      <td>173200</td>\n",
       "    </tr>\n",
       "    <tr>\n",
       "      <th>2</th>\n",
       "      <td>AsstProf</td>\n",
       "      <td>B</td>\n",
       "      <td>4</td>\n",
       "      <td>3</td>\n",
       "      <td>Male</td>\n",
       "      <td>79750</td>\n",
       "    </tr>\n",
       "    <tr>\n",
       "      <th>3</th>\n",
       "      <td>Prof</td>\n",
       "      <td>B</td>\n",
       "      <td>45</td>\n",
       "      <td>39</td>\n",
       "      <td>Male</td>\n",
       "      <td>115000</td>\n",
       "    </tr>\n",
       "    <tr>\n",
       "      <th>4</th>\n",
       "      <td>Prof</td>\n",
       "      <td>B</td>\n",
       "      <td>40</td>\n",
       "      <td>41</td>\n",
       "      <td>Male</td>\n",
       "      <td>141500</td>\n",
       "    </tr>\n",
       "    <tr>\n",
       "      <th>5</th>\n",
       "      <td>AssocProf</td>\n",
       "      <td>B</td>\n",
       "      <td>6</td>\n",
       "      <td>6</td>\n",
       "      <td>Male</td>\n",
       "      <td>97000</td>\n",
       "    </tr>\n",
       "    <tr>\n",
       "      <th>6</th>\n",
       "      <td>Prof</td>\n",
       "      <td>B</td>\n",
       "      <td>30</td>\n",
       "      <td>23</td>\n",
       "      <td>Male</td>\n",
       "      <td>175000</td>\n",
       "    </tr>\n",
       "    <tr>\n",
       "      <th>7</th>\n",
       "      <td>Prof</td>\n",
       "      <td>B</td>\n",
       "      <td>45</td>\n",
       "      <td>45</td>\n",
       "      <td>Male</td>\n",
       "      <td>147765</td>\n",
       "    </tr>\n",
       "  </tbody>\n",
       "</table>\n",
       "</div>"
      ],
      "text/plain": [
       "        rank discipline  yrs.since.phd  yrs.service   sex  salary\n",
       "0       Prof          B             19           18  Male  139750\n",
       "1       Prof          B             20           16  Male  173200\n",
       "2   AsstProf          B              4            3  Male   79750\n",
       "3       Prof          B             45           39  Male  115000\n",
       "4       Prof          B             40           41  Male  141500\n",
       "5  AssocProf          B              6            6  Male   97000\n",
       "6       Prof          B             30           23  Male  175000\n",
       "7       Prof          B             45           45  Male  147765"
      ]
     },
     "execution_count": 3,
     "metadata": {},
     "output_type": "execute_result"
    }
   ],
   "source": [
    "df.head(8)"
   ]
  },
  {
   "cell_type": "code",
   "execution_count": 4,
   "id": "c9564784",
   "metadata": {},
   "outputs": [
    {
     "data": {
      "text/html": [
       "<div>\n",
       "<style scoped>\n",
       "    .dataframe tbody tr th:only-of-type {\n",
       "        vertical-align: middle;\n",
       "    }\n",
       "\n",
       "    .dataframe tbody tr th {\n",
       "        vertical-align: top;\n",
       "    }\n",
       "\n",
       "    .dataframe thead th {\n",
       "        text-align: right;\n",
       "    }\n",
       "</style>\n",
       "<table border=\"1\" class=\"dataframe\">\n",
       "  <thead>\n",
       "    <tr style=\"text-align: right;\">\n",
       "      <th></th>\n",
       "      <th>rank</th>\n",
       "      <th>discipline</th>\n",
       "      <th>yrs.since.phd</th>\n",
       "      <th>yrs.service</th>\n",
       "      <th>salary</th>\n",
       "    </tr>\n",
       "  </thead>\n",
       "  <tbody>\n",
       "    <tr>\n",
       "      <th>0</th>\n",
       "      <td>Prof</td>\n",
       "      <td>B</td>\n",
       "      <td>19</td>\n",
       "      <td>18</td>\n",
       "      <td>139750</td>\n",
       "    </tr>\n",
       "    <tr>\n",
       "      <th>1</th>\n",
       "      <td>Prof</td>\n",
       "      <td>B</td>\n",
       "      <td>20</td>\n",
       "      <td>16</td>\n",
       "      <td>173200</td>\n",
       "    </tr>\n",
       "    <tr>\n",
       "      <th>2</th>\n",
       "      <td>AsstProf</td>\n",
       "      <td>B</td>\n",
       "      <td>4</td>\n",
       "      <td>3</td>\n",
       "      <td>79750</td>\n",
       "    </tr>\n",
       "    <tr>\n",
       "      <th>3</th>\n",
       "      <td>Prof</td>\n",
       "      <td>B</td>\n",
       "      <td>45</td>\n",
       "      <td>39</td>\n",
       "      <td>115000</td>\n",
       "    </tr>\n",
       "    <tr>\n",
       "      <th>4</th>\n",
       "      <td>Prof</td>\n",
       "      <td>B</td>\n",
       "      <td>40</td>\n",
       "      <td>41</td>\n",
       "      <td>141500</td>\n",
       "    </tr>\n",
       "  </tbody>\n",
       "</table>\n",
       "</div>"
      ],
      "text/plain": [
       "       rank discipline  yrs.since.phd  yrs.service  salary\n",
       "0      Prof          B             19           18  139750\n",
       "1      Prof          B             20           16  173200\n",
       "2  AsstProf          B              4            3   79750\n",
       "3      Prof          B             45           39  115000\n",
       "4      Prof          B             40           41  141500"
      ]
     },
     "execution_count": 4,
     "metadata": {},
     "output_type": "execute_result"
    }
   ],
   "source": [
    "df=df.drop(columns=['sex'])\n",
    "df.head()"
   ]
  },
  {
   "cell_type": "code",
   "execution_count": 5,
   "id": "1a785636",
   "metadata": {},
   "outputs": [
    {
     "data": {
      "text/html": [
       "<div>\n",
       "<style scoped>\n",
       "    .dataframe tbody tr th:only-of-type {\n",
       "        vertical-align: middle;\n",
       "    }\n",
       "\n",
       "    .dataframe tbody tr th {\n",
       "        vertical-align: top;\n",
       "    }\n",
       "\n",
       "    .dataframe thead th {\n",
       "        text-align: right;\n",
       "    }\n",
       "</style>\n",
       "<table border=\"1\" class=\"dataframe\">\n",
       "  <thead>\n",
       "    <tr style=\"text-align: right;\">\n",
       "      <th></th>\n",
       "      <th>discipline</th>\n",
       "      <th>yrs.since.phd</th>\n",
       "      <th>yrs.service</th>\n",
       "      <th>salary</th>\n",
       "    </tr>\n",
       "  </thead>\n",
       "  <tbody>\n",
       "    <tr>\n",
       "      <th>0</th>\n",
       "      <td>B</td>\n",
       "      <td>19</td>\n",
       "      <td>18</td>\n",
       "      <td>139750</td>\n",
       "    </tr>\n",
       "    <tr>\n",
       "      <th>1</th>\n",
       "      <td>B</td>\n",
       "      <td>20</td>\n",
       "      <td>16</td>\n",
       "      <td>173200</td>\n",
       "    </tr>\n",
       "    <tr>\n",
       "      <th>2</th>\n",
       "      <td>B</td>\n",
       "      <td>4</td>\n",
       "      <td>3</td>\n",
       "      <td>79750</td>\n",
       "    </tr>\n",
       "    <tr>\n",
       "      <th>3</th>\n",
       "      <td>B</td>\n",
       "      <td>45</td>\n",
       "      <td>39</td>\n",
       "      <td>115000</td>\n",
       "    </tr>\n",
       "    <tr>\n",
       "      <th>4</th>\n",
       "      <td>B</td>\n",
       "      <td>40</td>\n",
       "      <td>41</td>\n",
       "      <td>141500</td>\n",
       "    </tr>\n",
       "  </tbody>\n",
       "</table>\n",
       "</div>"
      ],
      "text/plain": [
       "  discipline  yrs.since.phd  yrs.service  salary\n",
       "0          B             19           18  139750\n",
       "1          B             20           16  173200\n",
       "2          B              4            3   79750\n",
       "3          B             45           39  115000\n",
       "4          B             40           41  141500"
      ]
     },
     "execution_count": 5,
     "metadata": {},
     "output_type": "execute_result"
    }
   ],
   "source": [
    "df=df.drop(columns=['rank'])\n",
    "df.head()"
   ]
  },
  {
   "cell_type": "code",
   "execution_count": 6,
   "id": "4e363556",
   "metadata": {},
   "outputs": [
    {
     "data": {
      "text/html": [
       "<div>\n",
       "<style scoped>\n",
       "    .dataframe tbody tr th:only-of-type {\n",
       "        vertical-align: middle;\n",
       "    }\n",
       "\n",
       "    .dataframe tbody tr th {\n",
       "        vertical-align: top;\n",
       "    }\n",
       "\n",
       "    .dataframe thead th {\n",
       "        text-align: right;\n",
       "    }\n",
       "</style>\n",
       "<table border=\"1\" class=\"dataframe\">\n",
       "  <thead>\n",
       "    <tr style=\"text-align: right;\">\n",
       "      <th></th>\n",
       "      <th>yrs.since.phd</th>\n",
       "      <th>yrs.service</th>\n",
       "      <th>salary</th>\n",
       "    </tr>\n",
       "  </thead>\n",
       "  <tbody>\n",
       "    <tr>\n",
       "      <th>0</th>\n",
       "      <td>19</td>\n",
       "      <td>18</td>\n",
       "      <td>139750</td>\n",
       "    </tr>\n",
       "    <tr>\n",
       "      <th>1</th>\n",
       "      <td>20</td>\n",
       "      <td>16</td>\n",
       "      <td>173200</td>\n",
       "    </tr>\n",
       "    <tr>\n",
       "      <th>2</th>\n",
       "      <td>4</td>\n",
       "      <td>3</td>\n",
       "      <td>79750</td>\n",
       "    </tr>\n",
       "    <tr>\n",
       "      <th>3</th>\n",
       "      <td>45</td>\n",
       "      <td>39</td>\n",
       "      <td>115000</td>\n",
       "    </tr>\n",
       "    <tr>\n",
       "      <th>4</th>\n",
       "      <td>40</td>\n",
       "      <td>41</td>\n",
       "      <td>141500</td>\n",
       "    </tr>\n",
       "  </tbody>\n",
       "</table>\n",
       "</div>"
      ],
      "text/plain": [
       "   yrs.since.phd  yrs.service  salary\n",
       "0             19           18  139750\n",
       "1             20           16  173200\n",
       "2              4            3   79750\n",
       "3             45           39  115000\n",
       "4             40           41  141500"
      ]
     },
     "execution_count": 6,
     "metadata": {},
     "output_type": "execute_result"
    }
   ],
   "source": [
    "df=df.drop(columns=['discipline'])\n",
    "df.head()"
   ]
  },
  {
   "cell_type": "code",
   "execution_count": 7,
   "id": "064f7760",
   "metadata": {},
   "outputs": [
    {
     "data": {
      "text/html": [
       "<div>\n",
       "<style scoped>\n",
       "    .dataframe tbody tr th:only-of-type {\n",
       "        vertical-align: middle;\n",
       "    }\n",
       "\n",
       "    .dataframe tbody tr th {\n",
       "        vertical-align: top;\n",
       "    }\n",
       "\n",
       "    .dataframe thead th {\n",
       "        text-align: right;\n",
       "    }\n",
       "</style>\n",
       "<table border=\"1\" class=\"dataframe\">\n",
       "  <thead>\n",
       "    <tr style=\"text-align: right;\">\n",
       "      <th></th>\n",
       "      <th>yrs.since.phd</th>\n",
       "      <th>yrs.service</th>\n",
       "      <th>salary</th>\n",
       "    </tr>\n",
       "  </thead>\n",
       "  <tbody>\n",
       "    <tr>\n",
       "      <th>393</th>\n",
       "      <td>31</td>\n",
       "      <td>19</td>\n",
       "      <td>150564</td>\n",
       "    </tr>\n",
       "    <tr>\n",
       "      <th>394</th>\n",
       "      <td>42</td>\n",
       "      <td>25</td>\n",
       "      <td>101738</td>\n",
       "    </tr>\n",
       "    <tr>\n",
       "      <th>395</th>\n",
       "      <td>25</td>\n",
       "      <td>15</td>\n",
       "      <td>95329</td>\n",
       "    </tr>\n",
       "    <tr>\n",
       "      <th>396</th>\n",
       "      <td>8</td>\n",
       "      <td>4</td>\n",
       "      <td>81035</td>\n",
       "    </tr>\n",
       "  </tbody>\n",
       "</table>\n",
       "</div>"
      ],
      "text/plain": [
       "     yrs.since.phd  yrs.service  salary\n",
       "393             31           19  150564\n",
       "394             42           25  101738\n",
       "395             25           15   95329\n",
       "396              8            4   81035"
      ]
     },
     "execution_count": 7,
     "metadata": {},
     "output_type": "execute_result"
    }
   ],
   "source": [
    "df.tail(4)"
   ]
  },
  {
   "cell_type": "code",
   "execution_count": 8,
   "id": "1127d074",
   "metadata": {},
   "outputs": [
    {
     "data": {
      "text/html": [
       "<div>\n",
       "<style scoped>\n",
       "    .dataframe tbody tr th:only-of-type {\n",
       "        vertical-align: middle;\n",
       "    }\n",
       "\n",
       "    .dataframe tbody tr th {\n",
       "        vertical-align: top;\n",
       "    }\n",
       "\n",
       "    .dataframe thead th {\n",
       "        text-align: right;\n",
       "    }\n",
       "</style>\n",
       "<table border=\"1\" class=\"dataframe\">\n",
       "  <thead>\n",
       "    <tr style=\"text-align: right;\">\n",
       "      <th></th>\n",
       "      <th>yrs.since.phd</th>\n",
       "      <th>yrs.service</th>\n",
       "      <th>salary</th>\n",
       "    </tr>\n",
       "  </thead>\n",
       "  <tbody>\n",
       "    <tr>\n",
       "      <th>277</th>\n",
       "      <td>31</td>\n",
       "      <td>27</td>\n",
       "      <td>163200</td>\n",
       "    </tr>\n",
       "  </tbody>\n",
       "</table>\n",
       "</div>"
      ],
      "text/plain": [
       "     yrs.since.phd  yrs.service  salary\n",
       "277             31           27  163200"
      ]
     },
     "execution_count": 8,
     "metadata": {},
     "output_type": "execute_result"
    }
   ],
   "source": [
    "df.sample()"
   ]
  },
  {
   "cell_type": "code",
   "execution_count": 9,
   "id": "06563afe",
   "metadata": {
    "scrolled": true
   },
   "outputs": [
    {
     "data": {
      "text/plain": [
       "pandas.core.indexes.base.Index"
      ]
     },
     "execution_count": 9,
     "metadata": {},
     "output_type": "execute_result"
    }
   ],
   "source": [
    "#indexes at axis=1\n",
    "type(df.columns)"
   ]
  },
  {
   "cell_type": "code",
   "execution_count": 10,
   "id": "8543421e",
   "metadata": {
    "scrolled": true
   },
   "outputs": [
    {
     "data": {
      "text/plain": [
       "Index(['yrs.since.phd', 'yrs.service', 'salary'], dtype='object')"
      ]
     },
     "execution_count": 10,
     "metadata": {},
     "output_type": "execute_result"
    }
   ],
   "source": [
    "df.columns"
   ]
  },
  {
   "cell_type": "code",
   "execution_count": 11,
   "id": "1c0eed71",
   "metadata": {},
   "outputs": [
    {
     "data": {
      "text/plain": [
       "1"
      ]
     },
     "execution_count": 11,
     "metadata": {},
     "output_type": "execute_result"
    }
   ],
   "source": [
    "int(True)"
   ]
  },
  {
   "cell_type": "code",
   "execution_count": 12,
   "id": "21c50b41",
   "metadata": {},
   "outputs": [
    {
     "data": {
      "text/plain": [
       "0"
      ]
     },
     "execution_count": 12,
     "metadata": {},
     "output_type": "execute_result"
    }
   ],
   "source": [
    "int(False)"
   ]
  },
  {
   "cell_type": "code",
   "execution_count": 13,
   "id": "ec2134de",
   "metadata": {},
   "outputs": [
    {
     "data": {
      "text/plain": [
       "yrs.since.phd    0\n",
       "yrs.service      0\n",
       "salary           0\n",
       "dtype: int64"
      ]
     },
     "execution_count": 13,
     "metadata": {},
     "output_type": "execute_result"
    }
   ],
   "source": [
    "df.isnull().sum()"
   ]
  },
  {
   "cell_type": "code",
   "execution_count": 14,
   "id": "2d2609cc",
   "metadata": {},
   "outputs": [],
   "source": [
    "#categorical column ==> mode\n",
    "#continious columns == > mean"
   ]
  },
  {
   "cell_type": "code",
   "execution_count": 15,
   "id": "c7e4fb86",
   "metadata": {},
   "outputs": [],
   "source": [
    "#df.fillna()"
   ]
  },
  {
   "cell_type": "code",
   "execution_count": 16,
   "id": "9a5a8838",
   "metadata": {},
   "outputs": [
    {
     "data": {
      "text/plain": [
       "Index(['yrs.since.phd', 'yrs.service', 'salary'], dtype='object')"
      ]
     },
     "execution_count": 16,
     "metadata": {},
     "output_type": "execute_result"
    }
   ],
   "source": [
    "df.columns"
   ]
  },
  {
   "cell_type": "markdown",
   "id": "e296cca4",
   "metadata": {},
   "source": [
    "# EDA(Exploratory data analysis)\n",
    "\n",
    "# Scatterplot:"
   ]
  },
  {
   "cell_type": "code",
   "execution_count": 17,
   "id": "ffb6f754",
   "metadata": {},
   "outputs": [],
   "source": [
    "import seaborn as sns"
   ]
  },
  {
   "cell_type": "code",
   "execution_count": 18,
   "id": "14422f47",
   "metadata": {},
   "outputs": [
    {
     "data": {
      "text/plain": [
       "<AxesSubplot:>"
      ]
     },
     "execution_count": 18,
     "metadata": {},
     "output_type": "execute_result"
    },
    {
     "data": {
      "image/png": "[encoded data removed]",
      "text/plain": [
       "<Figure size 432x288 with 1 Axes>"
      ]
     },
     "metadata": {
      "needs_background": "light"
     },
     "output_type": "display_data"
    }
   ],
   "source": [
    "sns.scatterplot()\n"
   ]
  },
  {
   "cell_type": "code",
   "execution_count": 21,
   "id": "aa719228",
   "metadata": {},
   "outputs": [
    {
     "data": {
      "text/plain": [
       "<AxesSubplot:xlabel='yrs.service', ylabel='salary'>"
      ]
     },
     "execution_count": 21,
     "metadata": {},
     "output_type": "execute_result"
    },
    {
     "data": {
      "image/png": "[encoded data removed]",
      "text/plain": [
       "<Figure size 432x288 with 1 Axes>"
      ]
     },
     "metadata": {
      "needs_background": "light"
     },
     "output_type": "display_data"
    }
   ],
   "source": [
    "sns.scatterplot(x=\"yrs.service\",y=\"salary\",data=df)"
   ]
  },
  {
   "cell_type": "code",
   "execution_count": 22,
   "id": "c63c520b",
   "metadata": {},
   "outputs": [
    {
     "data": {
      "text/plain": [
       "<AxesSubplot:xlabel='yrs.since.phd', ylabel='salary'>"
      ]
     },
     "execution_count": 22,
     "metadata": {},
     "output_type": "execute_result"
    },
    {
     "data": {
      "image/png": "[encoded data removed]",
      "text/plain": [
       "<Figure size 432x288 with 1 Axes>"
      ]
     },
     "metadata": {
      "needs_background": "light"
     },
     "output_type": "display_data"
    }
   ],
   "source": [
    "sns.scatterplot(x=\"yrs.since.phd\",y=\"salary\",data=df)"
   ]
  },
  {
   "cell_type": "code",
   "execution_count": null,
   "id": "8328401f",
   "metadata": {},
   "outputs": [],
   "source": []
  },
  {
   "cell_type": "code",
   "execution_count": null,
   "id": "a3ff1f27",
   "metadata": {},
   "outputs": [],
   "source": []
  },
  {
   "cell_type": "code",
   "execution_count": 23,
   "id": "86c0db9c",
   "metadata": {},
   "outputs": [
    {
     "data": {
      "image/png": "[encoded data removed]",
      "text/plain": [
       "<Figure size 540x540 with 12 Axes>"
      ]
     },
     "metadata": {
      "needs_background": "light"
     },
     "output_type": "display_data"
    }
   ],
   "source": [
    "import matplotlib.pyplot as plt\n",
    "sns.pairplot(df)\n",
    "plt.savefig('pairplot2.png')\n",
    "plt.show()"
   ]
  },
  {
   "cell_type": "markdown",
   "id": "61a14d1c",
   "metadata": {},
   "source": [
    "# correlation:"
   ]
  },
  {
   "cell_type": "code",
   "execution_count": 24,
   "id": "ac65de8b",
   "metadata": {},
   "outputs": [
    {
     "data": {
      "text/html": [
       "<div>\n",
       "<style scoped>\n",
       "    .dataframe tbody tr th:only-of-type {\n",
       "        vertical-align: middle;\n",
       "    }\n",
       "\n",
       "    .dataframe tbody tr th {\n",
       "        vertical-align: top;\n",
       "    }\n",
       "\n",
       "    .dataframe thead th {\n",
       "        text-align: right;\n",
       "    }\n",
       "</style>\n",
       "<table border=\"1\" class=\"dataframe\">\n",
       "  <thead>\n",
       "    <tr style=\"text-align: right;\">\n",
       "      <th></th>\n",
       "      <th>yrs.since.phd</th>\n",
       "      <th>yrs.service</th>\n",
       "      <th>salary</th>\n",
       "    </tr>\n",
       "  </thead>\n",
       "  <tbody>\n",
       "    <tr>\n",
       "      <th>yrs.since.phd</th>\n",
       "      <td>1.000000</td>\n",
       "      <td>0.909649</td>\n",
       "      <td>0.419231</td>\n",
       "    </tr>\n",
       "    <tr>\n",
       "      <th>yrs.service</th>\n",
       "      <td>0.909649</td>\n",
       "      <td>1.000000</td>\n",
       "      <td>0.334745</td>\n",
       "    </tr>\n",
       "    <tr>\n",
       "      <th>salary</th>\n",
       "      <td>0.419231</td>\n",
       "      <td>0.334745</td>\n",
       "      <td>1.000000</td>\n",
       "    </tr>\n",
       "  </tbody>\n",
       "</table>\n",
       "</div>"
      ],
      "text/plain": [
       "               yrs.since.phd  yrs.service    salary\n",
       "yrs.since.phd       1.000000     0.909649  0.419231\n",
       "yrs.service         0.909649     1.000000  0.334745\n",
       "salary              0.419231     0.334745  1.000000"
      ]
     },
     "execution_count": 24,
     "metadata": {},
     "output_type": "execute_result"
    }
   ],
   "source": [
    "df.corr()"
   ]
  },
  {
   "cell_type": "code",
   "execution_count": 25,
   "id": "ba1b6b76",
   "metadata": {},
   "outputs": [
    {
     "data": {
      "text/plain": [
       "yrs.service      0.334745\n",
       "yrs.since.phd    0.419231\n",
       "salary           1.000000\n",
       "Name: salary, dtype: float64"
      ]
     },
     "execution_count": 25,
     "metadata": {},
     "output_type": "execute_result"
    }
   ],
   "source": [
    "df.corr()['salary'].sort_values()"
   ]
  },
  {
   "cell_type": "markdown",
   "id": "f6e4148d",
   "metadata": {},
   "source": [
    "correlation using heatmap:"
   ]
  },
  {
   "cell_type": "code",
   "execution_count": 26,
   "id": "991d0072",
   "metadata": {},
   "outputs": [
    {
     "data": {
      "text/plain": [
       "<AxesSubplot:>"
      ]
     },
     "execution_count": 26,
     "metadata": {},
     "output_type": "execute_result"
    },
    {
     "data": {
      "image/png": "[encoded data removed]",
      "text/plain": [
       "<Figure size 1080x504 with 2 Axes>"
      ]
     },
     "metadata": {
      "needs_background": "light"
     },
     "output_type": "display_data"
    }
   ],
   "source": [
    "import matplotlib.pyplot as plt\n",
    "\n",
    "# size of canvas\n",
    "plt.figure(figsize=(15,7))\n",
    "\n",
    "sns.heatmap(df.corr(),annot=True, linewidth=0.5,linecolor=\"black\",fmt='.2f')"
   ]
  },
  {
   "cell_type": "markdown",
   "id": "02f43830",
   "metadata": {},
   "source": [
    "# Descriptive statistics\n",
    "\n",
    "\n",
    "# Describing Datasates:"
   ]
  },
  {
   "cell_type": "code",
   "execution_count": 27,
   "id": "f8c1bc3f",
   "metadata": {},
   "outputs": [
    {
     "data": {
      "text/html": [
       "<div>\n",
       "<style scoped>\n",
       "    .dataframe tbody tr th:only-of-type {\n",
       "        vertical-align: middle;\n",
       "    }\n",
       "\n",
       "    .dataframe tbody tr th {\n",
       "        vertical-align: top;\n",
       "    }\n",
       "\n",
       "    .dataframe thead th {\n",
       "        text-align: right;\n",
       "    }\n",
       "</style>\n",
       "<table border=\"1\" class=\"dataframe\">\n",
       "  <thead>\n",
       "    <tr style=\"text-align: right;\">\n",
       "      <th></th>\n",
       "      <th>yrs.since.phd</th>\n",
       "      <th>yrs.service</th>\n",
       "      <th>salary</th>\n",
       "    </tr>\n",
       "  </thead>\n",
       "  <tbody>\n",
       "    <tr>\n",
       "      <th>count</th>\n",
       "      <td>397.000000</td>\n",
       "      <td>397.000000</td>\n",
       "      <td>397.000000</td>\n",
       "    </tr>\n",
       "    <tr>\n",
       "      <th>mean</th>\n",
       "      <td>22.314861</td>\n",
       "      <td>17.614610</td>\n",
       "      <td>113706.458438</td>\n",
       "    </tr>\n",
       "    <tr>\n",
       "      <th>std</th>\n",
       "      <td>12.887003</td>\n",
       "      <td>13.006024</td>\n",
       "      <td>30289.038695</td>\n",
       "    </tr>\n",
       "    <tr>\n",
       "      <th>min</th>\n",
       "      <td>1.000000</td>\n",
       "      <td>0.000000</td>\n",
       "      <td>57800.000000</td>\n",
       "    </tr>\n",
       "    <tr>\n",
       "      <th>25%</th>\n",
       "      <td>12.000000</td>\n",
       "      <td>7.000000</td>\n",
       "      <td>91000.000000</td>\n",
       "    </tr>\n",
       "    <tr>\n",
       "      <th>50%</th>\n",
       "      <td>21.000000</td>\n",
       "      <td>16.000000</td>\n",
       "      <td>107300.000000</td>\n",
       "    </tr>\n",
       "    <tr>\n",
       "      <th>75%</th>\n",
       "      <td>32.000000</td>\n",
       "      <td>27.000000</td>\n",
       "      <td>134185.000000</td>\n",
       "    </tr>\n",
       "    <tr>\n",
       "      <th>max</th>\n",
       "      <td>56.000000</td>\n",
       "      <td>60.000000</td>\n",
       "      <td>231545.000000</td>\n",
       "    </tr>\n",
       "  </tbody>\n",
       "</table>\n",
       "</div>"
      ],
      "text/plain": [
       "       yrs.since.phd  yrs.service         salary\n",
       "count     397.000000   397.000000     397.000000\n",
       "mean       22.314861    17.614610  113706.458438\n",
       "std        12.887003    13.006024   30289.038695\n",
       "min         1.000000     0.000000   57800.000000\n",
       "25%        12.000000     7.000000   91000.000000\n",
       "50%        21.000000    16.000000  107300.000000\n",
       "75%        32.000000    27.000000  134185.000000\n",
       "max        56.000000    60.000000  231545.000000"
      ]
     },
     "execution_count": 27,
     "metadata": {},
     "output_type": "execute_result"
    }
   ],
   "source": [
    "df.describe()"
   ]
  },
  {
   "cell_type": "code",
   "execution_count": 28,
   "id": "c685e76b",
   "metadata": {},
   "outputs": [
    {
     "data": {
      "image/png": "[encoded data removed]",
      "text/plain": [
       "<Figure size 1080x864 with 2 Axes>"
      ]
     },
     "metadata": {
      "needs_background": "light"
     },
     "output_type": "display_data"
    }
   ],
   "source": [
    "plt.figure(figsize=(15,12))\n",
    "sns.heatmap(round(df.describe()[1:].transpose(),2),linewidth=2,annot=True,fmt='f')\n",
    "plt.xticks(fontsize=18)\n",
    "plt.yticks(fontsize=12)\n",
    "plt.title(\"Variables summary\")\n",
    "plt.savefig('heatmap.png')\n",
    "plt.show()"
   ]
  },
  {
   "cell_type": "code",
   "execution_count": 29,
   "id": "6eef4cdd",
   "metadata": {},
   "outputs": [
    {
     "name": "stdout",
     "output_type": "stream",
     "text": [
      "<class 'pandas.core.frame.DataFrame'>\n",
      "RangeIndex: 397 entries, 0 to 396\n",
      "Data columns (total 3 columns):\n",
      " #   Column         Non-Null Count  Dtype\n",
      "---  ------         --------------  -----\n",
      " 0   yrs.since.phd  397 non-null    int64\n",
      " 1   yrs.service    397 non-null    int64\n",
      " 2   salary         397 non-null    int64\n",
      "dtypes: int64(3)\n",
      "memory usage: 9.4 KB\n"
     ]
    }
   ],
   "source": [
    "df.info()"
   ]
  },
  {
   "cell_type": "markdown",
   "id": "6373ff47",
   "metadata": {},
   "source": [
    "# Outliers checking"
   ]
  },
  {
   "cell_type": "code",
   "execution_count": 30,
   "id": "6aa5122c",
   "metadata": {},
   "outputs": [],
   "source": [
    "import warnings\n",
    "warnings.filterwarnings('ignore')\n"
   ]
  },
  {
   "cell_type": "code",
   "execution_count": 31,
   "id": "85c40242",
   "metadata": {},
   "outputs": [
    {
     "data": {
      "image/png": "[encoded data removed]",
      "text/plain": [
       "<Figure size 2160x6480 with 3 Axes>"
      ]
     },
     "metadata": {
      "needs_background": "light"
     },
     "output_type": "display_data"
    }
   ],
   "source": [
    "collist=df.columns.values\n",
    "ncol=30\n",
    "nrows=14\n",
    "plt.figure(figsize=(ncol,3*ncol))\n",
    "for i in range(0,len(collist)):\n",
    "    plt.subplot(nrows,ncol,i+1)\n",
    "    sns.boxplot(data=df[collist[i]],color='green',orient='v')\n",
    "    plt.tight_layout()"
   ]
  },
  {
   "cell_type": "markdown",
   "id": "995a0eaf",
   "metadata": {},
   "source": [
    "# skewness"
   ]
  },
  {
   "cell_type": "code",
   "execution_count": 32,
   "id": "0e014378",
   "metadata": {},
   "outputs": [
    {
     "data": {
      "text/plain": [
       "yrs.since.phd    0.300880\n",
       "yrs.service      0.650569\n",
       "salary           0.714568\n",
       "dtype: float64"
      ]
     },
     "execution_count": 32,
     "metadata": {},
     "output_type": "execute_result"
    }
   ],
   "source": [
    "df.skew()"
   ]
  },
  {
   "cell_type": "markdown",
   "id": "3a00f7c3",
   "metadata": {},
   "source": [
    "+/- 0.65 skewness threshold ia taken"
   ]
  },
  {
   "cell_type": "markdown",
   "id": "5af02e4e",
   "metadata": {},
   "source": []
  },
  {
   "cell_type": "markdown",
   "id": "349152d6",
   "metadata": {},
   "source": [
    "# NORMAL DISTRIBUTION CURVE:"
   ]
  },
  {
   "cell_type": "code",
   "execution_count": 33,
   "id": "c2510ba8",
   "metadata": {},
   "outputs": [
    {
     "data": {
      "text/plain": [
       "<AxesSubplot:xlabel='yrs.since.phd', ylabel='Density'>"
      ]
     },
     "execution_count": 33,
     "metadata": {},
     "output_type": "execute_result"
    },
    {
     "data": {
      "image/png": "[encoded data removed]",
      "text/plain": [
       "<Figure size 432x288 with 1 Axes>"
      ]
     },
     "metadata": {
      "needs_background": "light"
     },
     "output_type": "display_data"
    }
   ],
   "source": [
    "sns.distplot(df[\"yrs.since.phd\"])"
   ]
  },
  {
   "cell_type": "code",
   "execution_count": 34,
   "id": "97f8528c",
   "metadata": {},
   "outputs": [
    {
     "data": {
      "text/plain": [
       "<AxesSubplot:xlabel='yrs.service', ylabel='Density'>"
      ]
     },
     "execution_count": 34,
     "metadata": {},
     "output_type": "execute_result"
    },
    {
     "data": {
      "image/png": "[encoded data removed]",
      "text/plain": [
       "<Figure size 432x288 with 1 Axes>"
      ]
     },
     "metadata": {
      "needs_background": "light"
     },
     "output_type": "display_data"
    }
   ],
   "source": [
    "sns.distplot(df[\"yrs.service\"])"
   ]
  },
  {
   "cell_type": "markdown",
   "id": "5b404775",
   "metadata": {},
   "source": [
    "# The normal distribution shows that data is skwewd\n",
    "\n",
    "# Data Cleaning "
   ]
  },
  {
   "cell_type": "code",
   "execution_count": 35,
   "id": "5edee8ed",
   "metadata": {},
   "outputs": [
    {
     "data": {
      "text/plain": [
       "yrs.since.phd    0.419231\n",
       "yrs.service      0.334745\n",
       "salary           1.000000\n",
       "Name: salary, dtype: float64"
      ]
     },
     "execution_count": 35,
     "metadata": {},
     "output_type": "execute_result"
    }
   ],
   "source": [
    "df.corr()['salary']"
   ]
  },
  {
   "cell_type": "code",
   "execution_count": 36,
   "id": "e8854a8c",
   "metadata": {},
   "outputs": [
    {
     "data": {
      "text/html": [
       "<div>\n",
       "<style scoped>\n",
       "    .dataframe tbody tr th:only-of-type {\n",
       "        vertical-align: middle;\n",
       "    }\n",
       "\n",
       "    .dataframe tbody tr th {\n",
       "        vertical-align: top;\n",
       "    }\n",
       "\n",
       "    .dataframe thead th {\n",
       "        text-align: right;\n",
       "    }\n",
       "</style>\n",
       "<table border=\"1\" class=\"dataframe\">\n",
       "  <thead>\n",
       "    <tr style=\"text-align: right;\">\n",
       "      <th></th>\n",
       "      <th>yrs.since.phd</th>\n",
       "      <th>yrs.service</th>\n",
       "      <th>salary</th>\n",
       "    </tr>\n",
       "  </thead>\n",
       "  <tbody>\n",
       "    <tr>\n",
       "      <th>0</th>\n",
       "      <td>19</td>\n",
       "      <td>18</td>\n",
       "      <td>139750</td>\n",
       "    </tr>\n",
       "    <tr>\n",
       "      <th>1</th>\n",
       "      <td>20</td>\n",
       "      <td>16</td>\n",
       "      <td>173200</td>\n",
       "    </tr>\n",
       "    <tr>\n",
       "      <th>2</th>\n",
       "      <td>4</td>\n",
       "      <td>3</td>\n",
       "      <td>79750</td>\n",
       "    </tr>\n",
       "    <tr>\n",
       "      <th>3</th>\n",
       "      <td>45</td>\n",
       "      <td>39</td>\n",
       "      <td>115000</td>\n",
       "    </tr>\n",
       "    <tr>\n",
       "      <th>4</th>\n",
       "      <td>40</td>\n",
       "      <td>41</td>\n",
       "      <td>141500</td>\n",
       "    </tr>\n",
       "    <tr>\n",
       "      <th>...</th>\n",
       "      <td>...</td>\n",
       "      <td>...</td>\n",
       "      <td>...</td>\n",
       "    </tr>\n",
       "    <tr>\n",
       "      <th>392</th>\n",
       "      <td>33</td>\n",
       "      <td>30</td>\n",
       "      <td>103106</td>\n",
       "    </tr>\n",
       "    <tr>\n",
       "      <th>393</th>\n",
       "      <td>31</td>\n",
       "      <td>19</td>\n",
       "      <td>150564</td>\n",
       "    </tr>\n",
       "    <tr>\n",
       "      <th>394</th>\n",
       "      <td>42</td>\n",
       "      <td>25</td>\n",
       "      <td>101738</td>\n",
       "    </tr>\n",
       "    <tr>\n",
       "      <th>395</th>\n",
       "      <td>25</td>\n",
       "      <td>15</td>\n",
       "      <td>95329</td>\n",
       "    </tr>\n",
       "    <tr>\n",
       "      <th>396</th>\n",
       "      <td>8</td>\n",
       "      <td>4</td>\n",
       "      <td>81035</td>\n",
       "    </tr>\n",
       "  </tbody>\n",
       "</table>\n",
       "<p>397 rows × 3 columns</p>\n",
       "</div>"
      ],
      "text/plain": [
       "     yrs.since.phd  yrs.service  salary\n",
       "0               19           18  139750\n",
       "1               20           16  173200\n",
       "2                4            3   79750\n",
       "3               45           39  115000\n",
       "4               40           41  141500\n",
       "..             ...          ...     ...\n",
       "392             33           30  103106\n",
       "393             31           19  150564\n",
       "394             42           25  101738\n",
       "395             25           15   95329\n",
       "396              8            4   81035\n",
       "\n",
       "[397 rows x 3 columns]"
      ]
     },
     "execution_count": 36,
     "metadata": {},
     "output_type": "execute_result"
    }
   ],
   "source": [
    "df"
   ]
  },
  {
   "cell_type": "markdown",
   "id": "d5feec5d",
   "metadata": {},
   "source": [
    "# Removing outliers:"
   ]
  },
  {
   "cell_type": "markdown",
   "id": "1fb02e00",
   "metadata": {},
   "source": [
    "IQR proximity rule\n",
    "\n",
    "Z-score Technique\n"
   ]
  },
  {
   "cell_type": "code",
   "execution_count": 37,
   "id": "e922d9be",
   "metadata": {},
   "outputs": [
    {
     "data": {
      "text/plain": [
       "2"
      ]
     },
     "execution_count": 37,
     "metadata": {},
     "output_type": "execute_result"
    }
   ],
   "source": [
    "np.abs(2)"
   ]
  },
  {
   "cell_type": "code",
   "execution_count": 38,
   "id": "462746fa",
   "metadata": {},
   "outputs": [
    {
     "data": {
      "text/plain": [
       "2"
      ]
     },
     "execution_count": 38,
     "metadata": {},
     "output_type": "execute_result"
    }
   ],
   "source": [
    "np.abs(-2)"
   ]
  },
  {
   "cell_type": "code",
   "execution_count": 39,
   "id": "92ef5462",
   "metadata": {},
   "outputs": [],
   "source": [
    "\n",
    "from scipy.stats import zscore"
   ]
  },
  {
   "cell_type": "code",
   "execution_count": 40,
   "id": "054f4073",
   "metadata": {},
   "outputs": [
    {
     "data": {
      "text/html": [
       "<div>\n",
       "<style scoped>\n",
       "    .dataframe tbody tr th:only-of-type {\n",
       "        vertical-align: middle;\n",
       "    }\n",
       "\n",
       "    .dataframe tbody tr th {\n",
       "        vertical-align: top;\n",
       "    }\n",
       "\n",
       "    .dataframe thead th {\n",
       "        text-align: right;\n",
       "    }\n",
       "</style>\n",
       "<table border=\"1\" class=\"dataframe\">\n",
       "  <thead>\n",
       "    <tr style=\"text-align: right;\">\n",
       "      <th></th>\n",
       "      <th>yrs.since.phd</th>\n",
       "      <th>yrs.service</th>\n",
       "      <th>salary</th>\n",
       "    </tr>\n",
       "  </thead>\n",
       "  <tbody>\n",
       "    <tr>\n",
       "      <th>0</th>\n",
       "      <td>0.257550</td>\n",
       "      <td>0.029669</td>\n",
       "      <td>0.860919</td>\n",
       "    </tr>\n",
       "    <tr>\n",
       "      <th>1</th>\n",
       "      <td>0.179854</td>\n",
       "      <td>0.124300</td>\n",
       "      <td>1.966672</td>\n",
       "    </tr>\n",
       "    <tr>\n",
       "      <th>2</th>\n",
       "      <td>1.422982</td>\n",
       "      <td>1.125098</td>\n",
       "      <td>1.122495</td>\n",
       "    </tr>\n",
       "    <tr>\n",
       "      <th>3</th>\n",
       "      <td>1.762533</td>\n",
       "      <td>1.646343</td>\n",
       "      <td>0.042760</td>\n",
       "    </tr>\n",
       "    <tr>\n",
       "      <th>4</th>\n",
       "      <td>1.374055</td>\n",
       "      <td>1.800312</td>\n",
       "      <td>0.918768</td>\n",
       "    </tr>\n",
       "    <tr>\n",
       "      <th>...</th>\n",
       "      <td>...</td>\n",
       "      <td>...</td>\n",
       "      <td>...</td>\n",
       "    </tr>\n",
       "    <tr>\n",
       "      <th>392</th>\n",
       "      <td>0.830187</td>\n",
       "      <td>0.953483</td>\n",
       "      <td>0.350418</td>\n",
       "    </tr>\n",
       "    <tr>\n",
       "      <th>393</th>\n",
       "      <td>0.674796</td>\n",
       "      <td>0.106654</td>\n",
       "      <td>1.218396</td>\n",
       "    </tr>\n",
       "    <tr>\n",
       "      <th>394</th>\n",
       "      <td>1.529446</td>\n",
       "      <td>0.568560</td>\n",
       "      <td>0.395640</td>\n",
       "    </tr>\n",
       "    <tr>\n",
       "      <th>395</th>\n",
       "      <td>0.208623</td>\n",
       "      <td>0.201284</td>\n",
       "      <td>0.607502</td>\n",
       "    </tr>\n",
       "    <tr>\n",
       "      <th>396</th>\n",
       "      <td>1.112200</td>\n",
       "      <td>1.048113</td>\n",
       "      <td>1.080017</td>\n",
       "    </tr>\n",
       "  </tbody>\n",
       "</table>\n",
       "<p>397 rows × 3 columns</p>\n",
       "</div>"
      ],
      "text/plain": [
       "     yrs.since.phd  yrs.service    salary\n",
       "0         0.257550     0.029669  0.860919\n",
       "1         0.179854     0.124300  1.966672\n",
       "2         1.422982     1.125098  1.122495\n",
       "3         1.762533     1.646343  0.042760\n",
       "4         1.374055     1.800312  0.918768\n",
       "..             ...          ...       ...\n",
       "392       0.830187     0.953483  0.350418\n",
       "393       0.674796     0.106654  1.218396\n",
       "394       1.529446     0.568560  0.395640\n",
       "395       0.208623     0.201284  0.607502\n",
       "396       1.112200     1.048113  1.080017\n",
       "\n",
       "[397 rows x 3 columns]"
      ]
     },
     "execution_count": 40,
     "metadata": {},
     "output_type": "execute_result"
    }
   ],
   "source": [
    "np.abs(zscore(df))"
   ]
  },
  {
   "cell_type": "code",
   "execution_count": 41,
   "id": "5587ec38",
   "metadata": {},
   "outputs": [
    {
     "data": {
      "text/plain": [
       "(397, 3)"
      ]
     },
     "execution_count": 41,
     "metadata": {},
     "output_type": "execute_result"
    }
   ],
   "source": [
    "import numpy as np\n",
    "z=np.abs(zscore(df))\n",
    "z.shape"
   ]
  },
  {
   "cell_type": "code",
   "execution_count": 42,
   "id": "67a46c90",
   "metadata": {},
   "outputs": [
    {
     "data": {
      "text/html": [
       "<div>\n",
       "<style scoped>\n",
       "    .dataframe tbody tr th:only-of-type {\n",
       "        vertical-align: middle;\n",
       "    }\n",
       "\n",
       "    .dataframe tbody tr th {\n",
       "        vertical-align: top;\n",
       "    }\n",
       "\n",
       "    .dataframe thead th {\n",
       "        text-align: right;\n",
       "    }\n",
       "</style>\n",
       "<table border=\"1\" class=\"dataframe\">\n",
       "  <thead>\n",
       "    <tr style=\"text-align: right;\">\n",
       "      <th></th>\n",
       "      <th>yrs.since.phd</th>\n",
       "      <th>yrs.service</th>\n",
       "      <th>salary</th>\n",
       "    </tr>\n",
       "  </thead>\n",
       "  <tbody>\n",
       "    <tr>\n",
       "      <th>0</th>\n",
       "      <td>0.257550</td>\n",
       "      <td>0.029669</td>\n",
       "      <td>0.860919</td>\n",
       "    </tr>\n",
       "    <tr>\n",
       "      <th>1</th>\n",
       "      <td>0.179854</td>\n",
       "      <td>0.124300</td>\n",
       "      <td>1.966672</td>\n",
       "    </tr>\n",
       "    <tr>\n",
       "      <th>2</th>\n",
       "      <td>1.422982</td>\n",
       "      <td>1.125098</td>\n",
       "      <td>1.122495</td>\n",
       "    </tr>\n",
       "    <tr>\n",
       "      <th>3</th>\n",
       "      <td>1.762533</td>\n",
       "      <td>1.646343</td>\n",
       "      <td>0.042760</td>\n",
       "    </tr>\n",
       "    <tr>\n",
       "      <th>4</th>\n",
       "      <td>1.374055</td>\n",
       "      <td>1.800312</td>\n",
       "      <td>0.918768</td>\n",
       "    </tr>\n",
       "    <tr>\n",
       "      <th>...</th>\n",
       "      <td>...</td>\n",
       "      <td>...</td>\n",
       "      <td>...</td>\n",
       "    </tr>\n",
       "    <tr>\n",
       "      <th>392</th>\n",
       "      <td>0.830187</td>\n",
       "      <td>0.953483</td>\n",
       "      <td>0.350418</td>\n",
       "    </tr>\n",
       "    <tr>\n",
       "      <th>393</th>\n",
       "      <td>0.674796</td>\n",
       "      <td>0.106654</td>\n",
       "      <td>1.218396</td>\n",
       "    </tr>\n",
       "    <tr>\n",
       "      <th>394</th>\n",
       "      <td>1.529446</td>\n",
       "      <td>0.568560</td>\n",
       "      <td>0.395640</td>\n",
       "    </tr>\n",
       "    <tr>\n",
       "      <th>395</th>\n",
       "      <td>0.208623</td>\n",
       "      <td>0.201284</td>\n",
       "      <td>0.607502</td>\n",
       "    </tr>\n",
       "    <tr>\n",
       "      <th>396</th>\n",
       "      <td>1.112200</td>\n",
       "      <td>1.048113</td>\n",
       "      <td>1.080017</td>\n",
       "    </tr>\n",
       "  </tbody>\n",
       "</table>\n",
       "<p>397 rows × 3 columns</p>\n",
       "</div>"
      ],
      "text/plain": [
       "     yrs.since.phd  yrs.service    salary\n",
       "0         0.257550     0.029669  0.860919\n",
       "1         0.179854     0.124300  1.966672\n",
       "2         1.422982     1.125098  1.122495\n",
       "3         1.762533     1.646343  0.042760\n",
       "4         1.374055     1.800312  0.918768\n",
       "..             ...          ...       ...\n",
       "392       0.830187     0.953483  0.350418\n",
       "393       0.674796     0.106654  1.218396\n",
       "394       1.529446     0.568560  0.395640\n",
       "395       0.208623     0.201284  0.607502\n",
       "396       1.112200     1.048113  1.080017\n",
       "\n",
       "[397 rows x 3 columns]"
      ]
     },
     "execution_count": 42,
     "metadata": {},
     "output_type": "execute_result"
    }
   ],
   "source": [
    "z"
   ]
  },
  {
   "cell_type": "code",
   "execution_count": 43,
   "id": "18d6048a",
   "metadata": {},
   "outputs": [
    {
     "name": "stdout",
     "output_type": "stream",
     "text": [
      "(array([ 43, 131, 330, 364], dtype=int64), array([2, 1, 1, 2], dtype=int64))\n"
     ]
    }
   ],
   "source": [
    "#if np.abs is not applied\n",
    "#threshold=(-3,3)\n",
    "\n",
    "\n",
    "\n",
    "# if applied np.abs\n",
    "\n",
    "threshold=3  #(standard)\n",
    "#index number\n",
    "print(np.where(z>3))"
   ]
  },
  {
   "cell_type": "code",
   "execution_count": 44,
   "id": "8442504f",
   "metadata": {},
   "outputs": [
    {
     "data": {
      "text/plain": [
       "4"
      ]
     },
     "execution_count": 44,
     "metadata": {},
     "output_type": "execute_result"
    }
   ],
   "source": [
    "len(np.where(z>3)[0])"
   ]
  },
  {
   "cell_type": "markdown",
   "id": "275c1543",
   "metadata": {},
   "source": [
    "numpy\n",
    "row wise   axis=1\n",
    "column wise------axis=0\n",
    "\n",
    "pandas\n",
    "\n",
    "row wise-----axis=0\n",
    "column wise------axis=1"
   ]
  },
  {
   "cell_type": "code",
   "execution_count": 45,
   "id": "36353f47",
   "metadata": {},
   "outputs": [],
   "source": [
    "df_new=df[(z<3).all(axis=1)]"
   ]
  },
  {
   "cell_type": "code",
   "execution_count": 46,
   "id": "52dd4d82",
   "metadata": {},
   "outputs": [
    {
     "name": "stdout",
     "output_type": "stream",
     "text": [
      "old Dataframe (397, 3)\n",
      "New Dataframe (393, 3)\n",
      "total_dropped_rows 4\n"
     ]
    }
   ],
   "source": [
    "print(\"old Dataframe\",df.shape)\n",
    "print(\"New Dataframe\",df_new.shape)\n",
    "print(\"total_dropped_rows\", df.shape[0]- df_new.shape[0])\n"
   ]
  },
  {
   "cell_type": "markdown",
   "id": "b6cf1ff8",
   "metadata": {},
   "source": [
    "# percentage data loss"
   ]
  },
  {
   "cell_type": "code",
   "execution_count": 47,
   "id": "abd56001",
   "metadata": {},
   "outputs": [
    {
     "name": "stdout",
     "output_type": "stream",
     "text": [
      "1.0075566750629723 %\n"
     ]
    }
   ],
   "source": [
    "loss_percent=(397-393)/397*100\n",
    "print(loss_percent,'%')"
   ]
  },
  {
   "cell_type": "markdown",
   "id": "91738c6a",
   "metadata": {},
   "source": [
    "# Model without outliers is df and model with desired outliers if df_new1"
   ]
  },
  {
   "cell_type": "code",
   "execution_count": 48,
   "id": "f9306cf4",
   "metadata": {},
   "outputs": [
    {
     "data": {
      "text/html": [
       "<div>\n",
       "<style scoped>\n",
       "    .dataframe tbody tr th:only-of-type {\n",
       "        vertical-align: middle;\n",
       "    }\n",
       "\n",
       "    .dataframe tbody tr th {\n",
       "        vertical-align: top;\n",
       "    }\n",
       "\n",
       "    .dataframe thead th {\n",
       "        text-align: right;\n",
       "    }\n",
       "</style>\n",
       "<table border=\"1\" class=\"dataframe\">\n",
       "  <thead>\n",
       "    <tr style=\"text-align: right;\">\n",
       "      <th></th>\n",
       "      <th>yrs.since.phd</th>\n",
       "      <th>yrs.service</th>\n",
       "      <th>salary</th>\n",
       "    </tr>\n",
       "  </thead>\n",
       "  <tbody>\n",
       "    <tr>\n",
       "      <th>0</th>\n",
       "      <td>19</td>\n",
       "      <td>18</td>\n",
       "      <td>139750</td>\n",
       "    </tr>\n",
       "    <tr>\n",
       "      <th>1</th>\n",
       "      <td>20</td>\n",
       "      <td>16</td>\n",
       "      <td>173200</td>\n",
       "    </tr>\n",
       "    <tr>\n",
       "      <th>2</th>\n",
       "      <td>4</td>\n",
       "      <td>3</td>\n",
       "      <td>79750</td>\n",
       "    </tr>\n",
       "    <tr>\n",
       "      <th>3</th>\n",
       "      <td>45</td>\n",
       "      <td>39</td>\n",
       "      <td>115000</td>\n",
       "    </tr>\n",
       "    <tr>\n",
       "      <th>4</th>\n",
       "      <td>40</td>\n",
       "      <td>41</td>\n",
       "      <td>141500</td>\n",
       "    </tr>\n",
       "    <tr>\n",
       "      <th>...</th>\n",
       "      <td>...</td>\n",
       "      <td>...</td>\n",
       "      <td>...</td>\n",
       "    </tr>\n",
       "    <tr>\n",
       "      <th>392</th>\n",
       "      <td>33</td>\n",
       "      <td>30</td>\n",
       "      <td>103106</td>\n",
       "    </tr>\n",
       "    <tr>\n",
       "      <th>393</th>\n",
       "      <td>31</td>\n",
       "      <td>19</td>\n",
       "      <td>150564</td>\n",
       "    </tr>\n",
       "    <tr>\n",
       "      <th>394</th>\n",
       "      <td>42</td>\n",
       "      <td>25</td>\n",
       "      <td>101738</td>\n",
       "    </tr>\n",
       "    <tr>\n",
       "      <th>395</th>\n",
       "      <td>25</td>\n",
       "      <td>15</td>\n",
       "      <td>95329</td>\n",
       "    </tr>\n",
       "    <tr>\n",
       "      <th>396</th>\n",
       "      <td>8</td>\n",
       "      <td>4</td>\n",
       "      <td>81035</td>\n",
       "    </tr>\n",
       "  </tbody>\n",
       "</table>\n",
       "<p>393 rows × 3 columns</p>\n",
       "</div>"
      ],
      "text/plain": [
       "     yrs.since.phd  yrs.service  salary\n",
       "0               19           18  139750\n",
       "1               20           16  173200\n",
       "2                4            3   79750\n",
       "3               45           39  115000\n",
       "4               40           41  141500\n",
       "..             ...          ...     ...\n",
       "392             33           30  103106\n",
       "393             31           19  150564\n",
       "394             42           25  101738\n",
       "395             25           15   95329\n",
       "396              8            4   81035\n",
       "\n",
       "[393 rows x 3 columns]"
      ]
     },
     "execution_count": 48,
     "metadata": {},
     "output_type": "execute_result"
    }
   ],
   "source": [
    "df_new"
   ]
  },
  {
   "cell_type": "code",
   "execution_count": 49,
   "id": "125dcd92",
   "metadata": {},
   "outputs": [],
   "source": [
    "# independent column\n",
    "x= df_new.drop(columns=['salary'])"
   ]
  },
  {
   "cell_type": "code",
   "execution_count": null,
   "id": "a10880f0",
   "metadata": {},
   "outputs": [],
   "source": []
  },
  {
   "cell_type": "code",
   "execution_count": 50,
   "id": "fc17f256",
   "metadata": {},
   "outputs": [],
   "source": [
    "#target\n",
    "y=df_new['salary']"
   ]
  },
  {
   "cell_type": "markdown",
   "id": "40e2a971",
   "metadata": {},
   "source": [
    "# Transforming data to remove skewness:"
   ]
  },
  {
   "cell_type": "code",
   "execution_count": 51,
   "id": "fae7117e",
   "metadata": {},
   "outputs": [],
   "source": [
    "from sklearn.preprocessing import power_transform"
   ]
  },
  {
   "cell_type": "code",
   "execution_count": 52,
   "id": "d0c04fc1",
   "metadata": {},
   "outputs": [],
   "source": [
    "x=power_transform(x,method='yeo-johnson')"
   ]
  },
  {
   "cell_type": "code",
   "execution_count": 53,
   "id": "2f8ad472",
   "metadata": {},
   "outputs": [
    {
     "data": {
      "text/plain": [
       "numpy.ndarray"
      ]
     },
     "execution_count": 53,
     "metadata": {},
     "output_type": "execute_result"
    }
   ],
   "source": [
    "type(x)"
   ]
  },
  {
   "cell_type": "code",
   "execution_count": 54,
   "id": "ca1fc856",
   "metadata": {},
   "outputs": [
    {
     "data": {
      "text/plain": [
       "array([[-0.11344983,  0.26888583],\n",
       "       [-0.03455335,  0.1209006 ],\n",
       "       [-1.6242611 , -1.28449532],\n",
       "       [ 1.59976363,  1.46109915],\n",
       "       [ 1.31028198,  1.55315864],\n",
       "       [-1.36187943, -0.84005312],\n",
       "       [ 0.68342795,  0.60337981],\n",
       "       [ 1.59976363,  1.72997607],\n",
       "       [ 0.04281072,  0.40814245],\n",
       "       [-0.19398811,  0.26888583],\n",
       "       [-0.72000082, -0.60348074],\n",
       "       [-1.24247753, -1.47508922],\n",
       "       [-2.12374282, -1.70716059],\n",
       "       [-1.93539178, -2.02223253],\n",
       "       [-0.03455335,  0.26888583],\n",
       "       [-0.72000082, -1.28449532],\n",
       "       [-0.11344983,  0.40814245],\n",
       "       [ 1.1904517 ,  1.21866709],\n",
       "       [ 1.12958897,  0.60337981],\n",
       "       [ 1.25067523,  1.31789249],\n",
       "       [ 0.74953316,  0.78500622],\n",
       "       [ 1.06806314,  1.06349813],\n",
       "       [ 0.94291868,  1.00992197],\n",
       "       [ 0.26663401,  0.33951754],\n",
       "       [-0.62629143, -0.60348074],\n",
       "       [ 0.04281072, -0.60348074],\n",
       "       [ 1.00584876,  0.60337981],\n",
       "       [-1.48854554, -1.28449532],\n",
       "       [-0.81672914, -2.02223253],\n",
       "       [-0.72000082, -0.60348074],\n",
       "       [-0.03455335, -1.11979784],\n",
       "       [-1.24247753, -1.47508922],\n",
       "       [-0.62629143, -0.49655514],\n",
       "       [-1.6242611 , -1.47508922],\n",
       "       [-1.6242611 , -1.47508922],\n",
       "       [-1.48854554, -2.02223253],\n",
       "       [ 0.11873986,  0.47490923],\n",
       "       [-1.24247753, -1.11979784],\n",
       "       [ 1.3692931 ,  1.06349813],\n",
       "       [-1.02077234, -0.49655514],\n",
       "       [ 0.19332141, -1.47508922],\n",
       "       [ 0.19332141,  0.60337981],\n",
       "       [ 1.31028198,  0.84294347],\n",
       "       [-0.11344983,  0.33951754],\n",
       "       [ 0.33874878,  0.04312953],\n",
       "       [ 1.31028198,  0.89970038],\n",
       "       [ 0.19332141,  0.33951754],\n",
       "       [ 0.33874878,  0.72581897],\n",
       "       [-2.12374282, -1.70716059],\n",
       "       [ 0.54852367,  0.89970038],\n",
       "       [-0.72000082, -0.29986145],\n",
       "       [-0.81672914, -1.28449532],\n",
       "       [-0.36050053, -0.49655514],\n",
       "       [-0.72000082, -0.29986145],\n",
       "       [-0.53530047, -0.97317433],\n",
       "       [ 0.19332141,  0.47490923],\n",
       "       [-1.02077234, -0.60348074],\n",
       "       [-0.91683853, -0.49655514],\n",
       "       [-1.12908354, -1.28449532],\n",
       "       [-1.02077234, -0.60348074],\n",
       "       [-1.7717242 , -1.47508922],\n",
       "       [ 0.87924385,  1.06349813],\n",
       "       [-0.81672914, -0.29986145],\n",
       "       [-1.6242611 , -1.28449532],\n",
       "       [-1.02077234, -0.60348074],\n",
       "       [ 0.11873986, -0.2085903 ],\n",
       "       [ 1.00584876,  1.06349813],\n",
       "       [-0.27629162,  0.19607812],\n",
       "       [ 0.54852367,  1.31789249],\n",
       "       [-0.27629162, -1.47508922],\n",
       "       [ 1.59976363,  1.72997607],\n",
       "       [ 0.61643875,  0.33951754],\n",
       "       [ 1.00584876,  1.21866709],\n",
       "       [ 0.54852367,  0.60337981],\n",
       "       [-1.12908354, -1.28449532],\n",
       "       [-0.27629162, -1.28449532],\n",
       "       [ 0.40973026,  0.33951754],\n",
       "       [-1.7717242 , -1.70716059],\n",
       "       [-1.36187943, -1.47508922],\n",
       "       [ 1.48560705,  0.89970038],\n",
       "       [-0.27629162,  0.1209006 ],\n",
       "       [ 0.11873986,  0.40814245],\n",
       "       [-1.36187943, -1.47508922],\n",
       "       [-0.27629162,  0.26888583],\n",
       "       [-0.44677519, -0.03749559],\n",
       "       [ 1.12958897,  1.36634754],\n",
       "       [-1.93539178, -1.47508922],\n",
       "       [ 0.33874878,  0.72581897],\n",
       "       [-1.02077234, -0.71749486],\n",
       "       [-0.91683853, -0.97317433],\n",
       "       [-0.91683853, -0.71749486],\n",
       "       [-0.91683853, -0.71749486],\n",
       "       [ 1.1904517 ,  1.41407334],\n",
       "       [ 0.04281072,  0.40814245],\n",
       "       [-1.6242611 , -2.02223253],\n",
       "       [-0.27629162, -0.2085903 ],\n",
       "       [-0.62629143, -0.71749486],\n",
       "       [ 0.68342795, -0.03749559],\n",
       "       [ 1.3692931 ,  0.78500622],\n",
       "       [ 1.42772852,  0.72581897],\n",
       "       [ 0.54852367,  0.60337981],\n",
       "       [-0.36050053, -0.97317433],\n",
       "       [-0.03455335, -0.03749559],\n",
       "       [-0.19398811, -0.39562866],\n",
       "       [ 0.74953316,  0.89970038],\n",
       "       [-0.81672914, -0.60348074],\n",
       "       [-0.91683853, -0.60348074],\n",
       "       [-0.44677519, -0.60348074],\n",
       "       [ 1.31028198,  1.06349813],\n",
       "       [-0.03455335,  0.1209006 ],\n",
       "       [-0.11344983,  0.1209006 ],\n",
       "       [-1.7717242 , -1.70716059],\n",
       "       [ 1.12958897,  1.36634754],\n",
       "       [-0.72000082, -2.02223253],\n",
       "       [ 0.04281072, -0.49655514],\n",
       "       [ 0.68342795,  0.9553405 ],\n",
       "       [ 1.25067523,  1.31789249],\n",
       "       [-1.6242611 , -1.70716059],\n",
       "       [-1.48854554, -1.28449532],\n",
       "       [-0.53530047, -0.03749559],\n",
       "       [ 0.81479315,  1.11611808],\n",
       "       [ 0.26663401,  0.53994937],\n",
       "       [ 0.33874878,  0.53994937],\n",
       "       [ 0.26663401,  0.53994937],\n",
       "       [ 2.09000468,  1.89813923],\n",
       "       [ 0.54852367,  0.78500622],\n",
       "       [-1.93539178, -2.02223253],\n",
       "       [ 0.81479315,  1.00992197],\n",
       "       [-1.6242611 , -1.47508922],\n",
       "       [-0.81672914, -0.49655514],\n",
       "       [-0.91683853, -0.60348074],\n",
       "       [-1.7717242 , -1.70716059],\n",
       "       [ 1.00584876,  0.72581897],\n",
       "       [-0.03455335,  0.26888583],\n",
       "       [-0.36050053, -0.03749559],\n",
       "       [-0.27629162, -0.03749559],\n",
       "       [-0.91683853, -0.71749486],\n",
       "       [ 0.04281072,  0.26888583],\n",
       "       [-0.53530047, -0.60348074],\n",
       "       [-0.44677519, -0.39562866],\n",
       "       [-0.11344983, -0.29986145],\n",
       "       [-1.7717242 , -1.28449532],\n",
       "       [ 0.47963729,  0.84294347],\n",
       "       [ 0.54852367,  0.89970038],\n",
       "       [-1.6242611 , -1.11979784],\n",
       "       [ 0.47963729,  0.84294347],\n",
       "       [ 1.06806314,  0.78500622],\n",
       "       [-1.6242611 , -1.28449532],\n",
       "       [-0.53530047, -0.2085903 ],\n",
       "       [-1.6242611 , -1.11979784],\n",
       "       [ 0.04281072, -0.49655514],\n",
       "       [-0.72000082, -0.39562866],\n",
       "       [-1.6242611 , -2.02223253],\n",
       "       [ 0.04281072,  0.47490923],\n",
       "       [-0.72000082,  0.26888583],\n",
       "       [-2.12374282, -2.02223253],\n",
       "       [-1.36187943, -0.84005312],\n",
       "       [-0.44677519,  0.1209006 ],\n",
       "       [-1.93539178, -1.47508922],\n",
       "       [ 0.40973026,  0.33951754],\n",
       "       [ 0.11873986, -0.71749486],\n",
       "       [-1.7717242 , -1.28449532],\n",
       "       [-2.12374282, -2.02223253],\n",
       "       [ 0.04281072, -0.60348074],\n",
       "       [-0.36050053,  0.1209006 ],\n",
       "       [-0.19398811,  0.33951754],\n",
       "       [-1.12908354, -0.84005312],\n",
       "       [ 0.33874878,  0.26888583],\n",
       "       [-1.48854554, -0.97317433],\n",
       "       [-0.11344983,  0.33951754],\n",
       "       [ 1.12958897,  0.66530506],\n",
       "       [-0.03455335,  0.40814245],\n",
       "       [-0.27629162, -0.84005312],\n",
       "       [ 0.54852367,  0.72581897],\n",
       "       [-0.91683853, -0.71749486],\n",
       "       [-0.62629143, -0.49655514],\n",
       "       [ 0.47963729, -0.03749559],\n",
       "       [-1.7717242 , -1.28449532],\n",
       "       [-0.81672914, -0.29986145],\n",
       "       [-0.19398811, -0.97317433],\n",
       "       [-1.12908354, -0.60348074],\n",
       "       [ 0.40973026,  0.53994937],\n",
       "       [ 0.19332141,  0.60337981],\n",
       "       [ 0.87924385,  1.00992197],\n",
       "       [-0.62629143, -0.39562866],\n",
       "       [-0.19398811, -0.39562866],\n",
       "       [ 0.54852367,  0.89970038],\n",
       "       [ 0.33874878,  0.33951754],\n",
       "       [ 0.11873986, -0.49655514],\n",
       "       [ 1.48560705,  0.53994937],\n",
       "       [-0.11344983,  0.26888583],\n",
       "       [-0.11344983,  0.33951754],\n",
       "       [ 1.76723708,  2.05871693],\n",
       "       [-1.02077234, -0.71749486],\n",
       "       [-1.6242611 , -1.11979784],\n",
       "       [-1.6242611 , -1.11979784],\n",
       "       [ 0.94291868,  1.16782711],\n",
       "       [ 1.1904517 ,  0.53994937],\n",
       "       [-1.6242611 , -1.11979784],\n",
       "       [ 1.31028198,  1.50745235],\n",
       "       [ 0.54852367,  0.19607812],\n",
       "       [-0.27629162,  0.19607812],\n",
       "       [-0.11344983, -0.97317433],\n",
       "       [ 0.04281072, -1.47508922],\n",
       "       [ 1.00584876,  1.16782711],\n",
       "       [-0.19398811,  0.26888583],\n",
       "       [-1.24247753, -1.47508922],\n",
       "       [-0.03455335,  0.40814245],\n",
       "       [-1.6242611 , -1.28449532],\n",
       "       [ 1.25067523,  1.46109915],\n",
       "       [-0.44677519, -0.71749486],\n",
       "       [ 0.40973026,  0.33951754],\n",
       "       [-0.81672914, -1.70716059],\n",
       "       [-0.36050053, -0.29986145],\n",
       "       [-0.44677519, -0.29986145],\n",
       "       [ 0.61643875,  0.53994937],\n",
       "       [-0.53530047, -0.71749486],\n",
       "       [-0.62629143, -0.29986145],\n",
       "       [ 0.04281072,  0.47490923],\n",
       "       [ 0.19332141, -0.39562866],\n",
       "       [-0.62629143, -0.84005312],\n",
       "       [ 0.94291868,  0.40814245],\n",
       "       [ 1.1904517 ,  1.26867686],\n",
       "       [-0.03455335,  0.40814245],\n",
       "       [-1.7717242 , -1.70716059],\n",
       "       [-1.02077234, -0.71749486],\n",
       "       [-0.36050053, -0.29986145],\n",
       "       [ 1.25067523,  1.41407334],\n",
       "       [ 0.61643875,  0.84294347],\n",
       "       [ 0.40973026,  0.66530506],\n",
       "       [ 1.1904517 ,  0.33951754],\n",
       "       [ 1.06806314,  0.33951754],\n",
       "       [-1.12908354, -1.28449532],\n",
       "       [ 0.54852367,  0.19607812],\n",
       "       [ 0.33874878,  0.72581897],\n",
       "       [-1.24247753, -0.84005312],\n",
       "       [ 1.65607448,  1.50745235],\n",
       "       [-0.11344983, -0.84005312],\n",
       "       [-1.48854554, -1.28449532],\n",
       "       [ 0.74953316,  1.00992197],\n",
       "       [ 1.1904517 ,  1.36634754],\n",
       "       [ 0.19332141,  0.60337981],\n",
       "       [-0.11344983,  0.60337981],\n",
       "       [-0.27629162, -0.29986145],\n",
       "       [ 0.68342795,  0.60337981],\n",
       "       [ 0.04281072,  0.26888583],\n",
       "       [ 0.54852367,  0.60337981],\n",
       "       [ 0.61643875, -0.71749486],\n",
       "       [ 1.25067523,  1.46109915],\n",
       "       [-0.03455335, -0.60348074],\n",
       "       [ 0.74953316, -0.2085903 ],\n",
       "       [-1.6242611 , -1.47508922],\n",
       "       [ 0.54852367, -0.71749486],\n",
       "       [-0.72000082, -0.60348074],\n",
       "       [ 0.11873986,  0.53994937],\n",
       "       [ 0.68342795,  0.60337981],\n",
       "       [-1.02077234, -1.28449532],\n",
       "       [ 0.81479315,  1.00992197],\n",
       "       [ 1.3692931 ,  1.16782711],\n",
       "       [ 1.59976363,  1.72997607],\n",
       "       [ 0.74953316,  0.78500622],\n",
       "       [ 0.74953316,  1.06349813],\n",
       "       [ 1.12958897,  1.26867686],\n",
       "       [ 1.06806314,  1.00992197],\n",
       "       [ 1.48560705,  1.64272548],\n",
       "       [-0.53530047, -0.39562866],\n",
       "       [ 1.71189417,  1.68663008],\n",
       "       [-0.62629143, -0.71749486],\n",
       "       [ 1.42772852,  1.50745235],\n",
       "       [ 1.42772852,  0.26888583],\n",
       "       [-1.6242611 , -1.70716059],\n",
       "       [-1.12908354, -1.11979784],\n",
       "       [-1.12908354, -1.28449532],\n",
       "       [-0.72000082, -0.84005312],\n",
       "       [ 1.98410497,  1.85684746],\n",
       "       [ 0.74953316,  0.84294347],\n",
       "       [ 0.26663401,  0.26888583],\n",
       "       [ 1.65607448,  1.77278246],\n",
       "       [ 1.25067523,  1.41407334],\n",
       "       [ 1.12958897,  0.84294347],\n",
       "       [ 1.93053872,  1.97931794],\n",
       "       [ 1.59976363,  1.64272548],\n",
       "       [-1.12908354, -0.84005312],\n",
       "       [ 1.8221169 ,  1.89813923],\n",
       "       [ 0.54852367,  0.84294347],\n",
       "       [-1.93539178, -2.02223253],\n",
       "       [ 0.61643875,  0.84294347],\n",
       "       [-1.12908354, -0.97317433],\n",
       "       [ 0.87924385, -0.71749486],\n",
       "       [ 0.81479315,  0.89970038],\n",
       "       [ 1.25067523, -0.49655514],\n",
       "       [-0.81672914, -1.70716059],\n",
       "       [-0.11344983, -0.71749486],\n",
       "       [ 1.31028198,  1.31789249],\n",
       "       [-0.19398811,  0.26888583],\n",
       "       [-0.27629162, -0.29986145],\n",
       "       [ 1.8221169 ,  1.64272548],\n",
       "       [ 1.59976363,  1.46109915],\n",
       "       [ 1.25067523,  1.31789249],\n",
       "       [ 0.47963729,  0.1209006 ],\n",
       "       [ 0.54852367, -0.12128092],\n",
       "       [-0.53530047, -1.11979784],\n",
       "       [ 1.65607448,  1.68663008],\n",
       "       [ 0.87924385,  1.06349813],\n",
       "       [-1.24247753, -1.11979784],\n",
       "       [ 0.74953316,  0.89970038],\n",
       "       [-1.48854554, -2.02223253],\n",
       "       [ 0.11873986,  0.04312953],\n",
       "       [-0.03455335, -0.71749486],\n",
       "       [-0.53530047, -0.49655514],\n",
       "       [ 0.61643875,  0.33951754],\n",
       "       [ 1.00584876,  1.26867686],\n",
       "       [ 0.11873986, -0.84005312],\n",
       "       [-1.36187943, -1.28449532],\n",
       "       [-0.72000082, -0.49655514],\n",
       "       [ 1.65607448,  1.72997607],\n",
       "       [-0.36050053,  0.1209006 ],\n",
       "       [-0.36050053,  0.04312953],\n",
       "       [ 0.26663401,  0.60337981],\n",
       "       [-1.02077234, -0.49655514],\n",
       "       [-0.62629143, -0.29986145],\n",
       "       [ 0.26663401,  0.04312953],\n",
       "       [ 0.68342795,  1.06349813],\n",
       "       [-1.12908354, -1.11979784],\n",
       "       [ 0.19332141,  0.04312953],\n",
       "       [ 1.12958897,  1.36634754],\n",
       "       [-0.91683853, -0.39562866],\n",
       "       [ 0.19332141,  0.60337981],\n",
       "       [-0.03455335, -0.49655514],\n",
       "       [-0.19398811, -0.39562866],\n",
       "       [ 0.87924385,  0.33951754],\n",
       "       [-0.11344983, -0.84005312],\n",
       "       [ 1.06806314,  1.41407334],\n",
       "       [ 1.00584876,  0.60337981],\n",
       "       [-0.62629143, -0.2085903 ],\n",
       "       [ 0.81479315,  0.72581897],\n",
       "       [ 1.12958897,  0.04312953],\n",
       "       [-0.62629143, -0.29986145],\n",
       "       [-0.27629162,  0.19607812],\n",
       "       [ 1.1904517 ,  1.41407334],\n",
       "       [ 0.74953316,  1.06349813],\n",
       "       [ 0.81479315,  1.26867686],\n",
       "       [-0.44677519, -0.39562866],\n",
       "       [ 1.3692931 ,  0.84294347],\n",
       "       [ 1.25067523,  1.16782711],\n",
       "       [-1.6242611 , -1.28449532],\n",
       "       [ 0.47963729,  0.89970038],\n",
       "       [ 2.19433033,  1.89813923],\n",
       "       [ 1.1904517 ,  1.41407334],\n",
       "       [ 0.40973026,  0.84294347],\n",
       "       [ 0.11873986,  0.40814245],\n",
       "       [-1.12908354, -1.70716059],\n",
       "       [ 0.33874878,  0.47490923],\n",
       "       [ 1.8221169 ,  1.50745235],\n",
       "       [ 1.25067523,  1.26867686],\n",
       "       [ 0.54852367, -0.03749559],\n",
       "       [-0.81672914, -1.11979784],\n",
       "       [-0.53530047, -0.29986145],\n",
       "       [ 0.19332141,  0.04312953],\n",
       "       [ 0.68342795,  1.00992197],\n",
       "       [-0.03455335,  0.19607812],\n",
       "       [ 1.48560705,  1.50745235],\n",
       "       [-0.44677519, -0.39562866],\n",
       "       [-0.91683853, -1.70716059],\n",
       "       [ 1.00584876,  1.00992197],\n",
       "       [ 0.87924385,  1.06349813],\n",
       "       [-0.62629143, -0.60348074],\n",
       "       [ 0.19332141,  0.40814245],\n",
       "       [-0.72000082, -0.71749486],\n",
       "       [ 0.68342795,  0.78500622],\n",
       "       [ 0.47963729,  0.33951754],\n",
       "       [ 0.54852367,  0.78500622],\n",
       "       [-1.6242611 , -1.70716059],\n",
       "       [-1.36187943, -1.28449532],\n",
       "       [ 1.1904517 ,  1.41407334],\n",
       "       [-0.81672914, -0.60348074],\n",
       "       [-1.12908354, -1.28449532],\n",
       "       [ 0.47963729,  0.60337981],\n",
       "       [-1.12908354, -0.97317433],\n",
       "       [ 1.54294647,  1.68663008],\n",
       "       [ 0.47963729,  0.47490923],\n",
       "       [-0.44677519, -0.49655514],\n",
       "       [ 0.61643875,  0.84294347],\n",
       "       [ 0.61643875,  0.04312953],\n",
       "       [ 1.1904517 ,  1.31789249],\n",
       "       [ 0.87924385,  0.26888583],\n",
       "       [ 1.31028198,  0.33951754],\n",
       "       [ 0.68342795,  0.33951754],\n",
       "       [ 0.87924385,  1.00992197],\n",
       "       [ 0.74953316,  0.33951754],\n",
       "       [ 1.42772852,  0.72581897],\n",
       "       [ 0.33874878,  0.04312953],\n",
       "       [-1.12908354, -1.11979784]])"
      ]
     },
     "execution_count": 54,
     "metadata": {},
     "output_type": "execute_result"
    }
   ],
   "source": [
    "x"
   ]
  },
  {
   "cell_type": "code",
   "execution_count": 55,
   "id": "c9495518",
   "metadata": {},
   "outputs": [
    {
     "data": {
      "text/plain": [
       "array([[-0.11344983,  0.26888583],\n",
       "       [-0.03455335,  0.1209006 ],\n",
       "       [-1.6242611 , -1.28449532],\n",
       "       [ 1.59976363,  1.46109915],\n",
       "       [ 1.31028198,  1.55315864],\n",
       "       [-1.36187943, -0.84005312],\n",
       "       [ 0.68342795,  0.60337981],\n",
       "       [ 1.59976363,  1.72997607],\n",
       "       [ 0.04281072,  0.40814245],\n",
       "       [-0.19398811,  0.26888583],\n",
       "       [-0.72000082, -0.60348074],\n",
       "       [-1.24247753, -1.47508922],\n",
       "       [-2.12374282, -1.70716059],\n",
       "       [-1.93539178, -2.02223253],\n",
       "       [-0.03455335,  0.26888583],\n",
       "       [-0.72000082, -1.28449532],\n",
       "       [-0.11344983,  0.40814245],\n",
       "       [ 1.1904517 ,  1.21866709],\n",
       "       [ 1.12958897,  0.60337981],\n",
       "       [ 1.25067523,  1.31789249],\n",
       "       [ 0.74953316,  0.78500622],\n",
       "       [ 1.06806314,  1.06349813],\n",
       "       [ 0.94291868,  1.00992197],\n",
       "       [ 0.26663401,  0.33951754],\n",
       "       [-0.62629143, -0.60348074],\n",
       "       [ 0.04281072, -0.60348074],\n",
       "       [ 1.00584876,  0.60337981],\n",
       "       [-1.48854554, -1.28449532],\n",
       "       [-0.81672914, -2.02223253],\n",
       "       [-0.72000082, -0.60348074],\n",
       "       [-0.03455335, -1.11979784],\n",
       "       [-1.24247753, -1.47508922],\n",
       "       [-0.62629143, -0.49655514],\n",
       "       [-1.6242611 , -1.47508922],\n",
       "       [-1.6242611 , -1.47508922],\n",
       "       [-1.48854554, -2.02223253],\n",
       "       [ 0.11873986,  0.47490923],\n",
       "       [-1.24247753, -1.11979784],\n",
       "       [ 1.3692931 ,  1.06349813],\n",
       "       [-1.02077234, -0.49655514],\n",
       "       [ 0.19332141, -1.47508922],\n",
       "       [ 0.19332141,  0.60337981],\n",
       "       [ 1.31028198,  0.84294347],\n",
       "       [-0.11344983,  0.33951754],\n",
       "       [ 0.33874878,  0.04312953],\n",
       "       [ 1.31028198,  0.89970038],\n",
       "       [ 0.19332141,  0.33951754],\n",
       "       [ 0.33874878,  0.72581897],\n",
       "       [-2.12374282, -1.70716059],\n",
       "       [ 0.54852367,  0.89970038],\n",
       "       [-0.72000082, -0.29986145],\n",
       "       [-0.81672914, -1.28449532],\n",
       "       [-0.36050053, -0.49655514],\n",
       "       [-0.72000082, -0.29986145],\n",
       "       [-0.53530047, -0.97317433],\n",
       "       [ 0.19332141,  0.47490923],\n",
       "       [-1.02077234, -0.60348074],\n",
       "       [-0.91683853, -0.49655514],\n",
       "       [-1.12908354, -1.28449532],\n",
       "       [-1.02077234, -0.60348074],\n",
       "       [-1.7717242 , -1.47508922],\n",
       "       [ 0.87924385,  1.06349813],\n",
       "       [-0.81672914, -0.29986145],\n",
       "       [-1.6242611 , -1.28449532],\n",
       "       [-1.02077234, -0.60348074],\n",
       "       [ 0.11873986, -0.2085903 ],\n",
       "       [ 1.00584876,  1.06349813],\n",
       "       [-0.27629162,  0.19607812],\n",
       "       [ 0.54852367,  1.31789249],\n",
       "       [-0.27629162, -1.47508922],\n",
       "       [ 1.59976363,  1.72997607],\n",
       "       [ 0.61643875,  0.33951754],\n",
       "       [ 1.00584876,  1.21866709],\n",
       "       [ 0.54852367,  0.60337981],\n",
       "       [-1.12908354, -1.28449532],\n",
       "       [-0.27629162, -1.28449532],\n",
       "       [ 0.40973026,  0.33951754],\n",
       "       [-1.7717242 , -1.70716059],\n",
       "       [-1.36187943, -1.47508922],\n",
       "       [ 1.48560705,  0.89970038],\n",
       "       [-0.27629162,  0.1209006 ],\n",
       "       [ 0.11873986,  0.40814245],\n",
       "       [-1.36187943, -1.47508922],\n",
       "       [-0.27629162,  0.26888583],\n",
       "       [-0.44677519, -0.03749559],\n",
       "       [ 1.12958897,  1.36634754],\n",
       "       [-1.93539178, -1.47508922],\n",
       "       [ 0.33874878,  0.72581897],\n",
       "       [-1.02077234, -0.71749486],\n",
       "       [-0.91683853, -0.97317433],\n",
       "       [-0.91683853, -0.71749486],\n",
       "       [-0.91683853, -0.71749486],\n",
       "       [ 1.1904517 ,  1.41407334],\n",
       "       [ 0.04281072,  0.40814245],\n",
       "       [-1.6242611 , -2.02223253],\n",
       "       [-0.27629162, -0.2085903 ],\n",
       "       [-0.62629143, -0.71749486],\n",
       "       [ 0.68342795, -0.03749559],\n",
       "       [ 1.3692931 ,  0.78500622],\n",
       "       [ 1.42772852,  0.72581897],\n",
       "       [ 0.54852367,  0.60337981],\n",
       "       [-0.36050053, -0.97317433],\n",
       "       [-0.03455335, -0.03749559],\n",
       "       [-0.19398811, -0.39562866],\n",
       "       [ 0.74953316,  0.89970038],\n",
       "       [-0.81672914, -0.60348074],\n",
       "       [-0.91683853, -0.60348074],\n",
       "       [-0.44677519, -0.60348074],\n",
       "       [ 1.31028198,  1.06349813],\n",
       "       [-0.03455335,  0.1209006 ],\n",
       "       [-0.11344983,  0.1209006 ],\n",
       "       [-1.7717242 , -1.70716059],\n",
       "       [ 1.12958897,  1.36634754],\n",
       "       [-0.72000082, -2.02223253],\n",
       "       [ 0.04281072, -0.49655514],\n",
       "       [ 0.68342795,  0.9553405 ],\n",
       "       [ 1.25067523,  1.31789249],\n",
       "       [-1.6242611 , -1.70716059],\n",
       "       [-1.48854554, -1.28449532],\n",
       "       [-0.53530047, -0.03749559],\n",
       "       [ 0.81479315,  1.11611808],\n",
       "       [ 0.26663401,  0.53994937],\n",
       "       [ 0.33874878,  0.53994937],\n",
       "       [ 0.26663401,  0.53994937],\n",
       "       [ 2.09000468,  1.89813923],\n",
       "       [ 0.54852367,  0.78500622],\n",
       "       [-1.93539178, -2.02223253],\n",
       "       [ 0.81479315,  1.00992197],\n",
       "       [-1.6242611 , -1.47508922],\n",
       "       [-0.81672914, -0.49655514],\n",
       "       [-0.91683853, -0.60348074],\n",
       "       [-1.7717242 , -1.70716059],\n",
       "       [ 1.00584876,  0.72581897],\n",
       "       [-0.03455335,  0.26888583],\n",
       "       [-0.36050053, -0.03749559],\n",
       "       [-0.27629162, -0.03749559],\n",
       "       [-0.91683853, -0.71749486],\n",
       "       [ 0.04281072,  0.26888583],\n",
       "       [-0.53530047, -0.60348074],\n",
       "       [-0.44677519, -0.39562866],\n",
       "       [-0.11344983, -0.29986145],\n",
       "       [-1.7717242 , -1.28449532],\n",
       "       [ 0.47963729,  0.84294347],\n",
       "       [ 0.54852367,  0.89970038],\n",
       "       [-1.6242611 , -1.11979784],\n",
       "       [ 0.47963729,  0.84294347],\n",
       "       [ 1.06806314,  0.78500622],\n",
       "       [-1.6242611 , -1.28449532],\n",
       "       [-0.53530047, -0.2085903 ],\n",
       "       [-1.6242611 , -1.11979784],\n",
       "       [ 0.04281072, -0.49655514],\n",
       "       [-0.72000082, -0.39562866],\n",
       "       [-1.6242611 , -2.02223253],\n",
       "       [ 0.04281072,  0.47490923],\n",
       "       [-0.72000082,  0.26888583],\n",
       "       [-2.12374282, -2.02223253],\n",
       "       [-1.36187943, -0.84005312],\n",
       "       [-0.44677519,  0.1209006 ],\n",
       "       [-1.93539178, -1.47508922],\n",
       "       [ 0.40973026,  0.33951754],\n",
       "       [ 0.11873986, -0.71749486],\n",
       "       [-1.7717242 , -1.28449532],\n",
       "       [-2.12374282, -2.02223253],\n",
       "       [ 0.04281072, -0.60348074],\n",
       "       [-0.36050053,  0.1209006 ],\n",
       "       [-0.19398811,  0.33951754],\n",
       "       [-1.12908354, -0.84005312],\n",
       "       [ 0.33874878,  0.26888583],\n",
       "       [-1.48854554, -0.97317433],\n",
       "       [-0.11344983,  0.33951754],\n",
       "       [ 1.12958897,  0.66530506],\n",
       "       [-0.03455335,  0.40814245],\n",
       "       [-0.27629162, -0.84005312],\n",
       "       [ 0.54852367,  0.72581897],\n",
       "       [-0.91683853, -0.71749486],\n",
       "       [-0.62629143, -0.49655514],\n",
       "       [ 0.47963729, -0.03749559],\n",
       "       [-1.7717242 , -1.28449532],\n",
       "       [-0.81672914, -0.29986145],\n",
       "       [-0.19398811, -0.97317433],\n",
       "       [-1.12908354, -0.60348074],\n",
       "       [ 0.40973026,  0.53994937],\n",
       "       [ 0.19332141,  0.60337981],\n",
       "       [ 0.87924385,  1.00992197],\n",
       "       [-0.62629143, -0.39562866],\n",
       "       [-0.19398811, -0.39562866],\n",
       "       [ 0.54852367,  0.89970038],\n",
       "       [ 0.33874878,  0.33951754],\n",
       "       [ 0.11873986, -0.49655514],\n",
       "       [ 1.48560705,  0.53994937],\n",
       "       [-0.11344983,  0.26888583],\n",
       "       [-0.11344983,  0.33951754],\n",
       "       [ 1.76723708,  2.05871693],\n",
       "       [-1.02077234, -0.71749486],\n",
       "       [-1.6242611 , -1.11979784],\n",
       "       [-1.6242611 , -1.11979784],\n",
       "       [ 0.94291868,  1.16782711],\n",
       "       [ 1.1904517 ,  0.53994937],\n",
       "       [-1.6242611 , -1.11979784],\n",
       "       [ 1.31028198,  1.50745235],\n",
       "       [ 0.54852367,  0.19607812],\n",
       "       [-0.27629162,  0.19607812],\n",
       "       [-0.11344983, -0.97317433],\n",
       "       [ 0.04281072, -1.47508922],\n",
       "       [ 1.00584876,  1.16782711],\n",
       "       [-0.19398811,  0.26888583],\n",
       "       [-1.24247753, -1.47508922],\n",
       "       [-0.03455335,  0.40814245],\n",
       "       [-1.6242611 , -1.28449532],\n",
       "       [ 1.25067523,  1.46109915],\n",
       "       [-0.44677519, -0.71749486],\n",
       "       [ 0.40973026,  0.33951754],\n",
       "       [-0.81672914, -1.70716059],\n",
       "       [-0.36050053, -0.29986145],\n",
       "       [-0.44677519, -0.29986145],\n",
       "       [ 0.61643875,  0.53994937],\n",
       "       [-0.53530047, -0.71749486],\n",
       "       [-0.62629143, -0.29986145],\n",
       "       [ 0.04281072,  0.47490923],\n",
       "       [ 0.19332141, -0.39562866],\n",
       "       [-0.62629143, -0.84005312],\n",
       "       [ 0.94291868,  0.40814245],\n",
       "       [ 1.1904517 ,  1.26867686],\n",
       "       [-0.03455335,  0.40814245],\n",
       "       [-1.7717242 , -1.70716059],\n",
       "       [-1.02077234, -0.71749486],\n",
       "       [-0.36050053, -0.29986145],\n",
       "       [ 1.25067523,  1.41407334],\n",
       "       [ 0.61643875,  0.84294347],\n",
       "       [ 0.40973026,  0.66530506],\n",
       "       [ 1.1904517 ,  0.33951754],\n",
       "       [ 1.06806314,  0.33951754],\n",
       "       [-1.12908354, -1.28449532],\n",
       "       [ 0.54852367,  0.19607812],\n",
       "       [ 0.33874878,  0.72581897],\n",
       "       [-1.24247753, -0.84005312],\n",
       "       [ 1.65607448,  1.50745235],\n",
       "       [-0.11344983, -0.84005312],\n",
       "       [-1.48854554, -1.28449532],\n",
       "       [ 0.74953316,  1.00992197],\n",
       "       [ 1.1904517 ,  1.36634754],\n",
       "       [ 0.19332141,  0.60337981],\n",
       "       [-0.11344983,  0.60337981],\n",
       "       [-0.27629162, -0.29986145],\n",
       "       [ 0.68342795,  0.60337981],\n",
       "       [ 0.04281072,  0.26888583],\n",
       "       [ 0.54852367,  0.60337981],\n",
       "       [ 0.61643875, -0.71749486],\n",
       "       [ 1.25067523,  1.46109915],\n",
       "       [-0.03455335, -0.60348074],\n",
       "       [ 0.74953316, -0.2085903 ],\n",
       "       [-1.6242611 , -1.47508922],\n",
       "       [ 0.54852367, -0.71749486],\n",
       "       [-0.72000082, -0.60348074],\n",
       "       [ 0.11873986,  0.53994937],\n",
       "       [ 0.68342795,  0.60337981],\n",
       "       [-1.02077234, -1.28449532],\n",
       "       [ 0.81479315,  1.00992197],\n",
       "       [ 1.3692931 ,  1.16782711],\n",
       "       [ 1.59976363,  1.72997607],\n",
       "       [ 0.74953316,  0.78500622],\n",
       "       [ 0.74953316,  1.06349813],\n",
       "       [ 1.12958897,  1.26867686],\n",
       "       [ 1.06806314,  1.00992197],\n",
       "       [ 1.48560705,  1.64272548],\n",
       "       [-0.53530047, -0.39562866],\n",
       "       [ 1.71189417,  1.68663008],\n",
       "       [-0.62629143, -0.71749486],\n",
       "       [ 1.42772852,  1.50745235],\n",
       "       [ 1.42772852,  0.26888583],\n",
       "       [-1.6242611 , -1.70716059],\n",
       "       [-1.12908354, -1.11979784],\n",
       "       [-1.12908354, -1.28449532],\n",
       "       [-0.72000082, -0.84005312],\n",
       "       [ 1.98410497,  1.85684746],\n",
       "       [ 0.74953316,  0.84294347],\n",
       "       [ 0.26663401,  0.26888583],\n",
       "       [ 1.65607448,  1.77278246],\n",
       "       [ 1.25067523,  1.41407334],\n",
       "       [ 1.12958897,  0.84294347],\n",
       "       [ 1.93053872,  1.97931794],\n",
       "       [ 1.59976363,  1.64272548],\n",
       "       [-1.12908354, -0.84005312],\n",
       "       [ 1.8221169 ,  1.89813923],\n",
       "       [ 0.54852367,  0.84294347],\n",
       "       [-1.93539178, -2.02223253],\n",
       "       [ 0.61643875,  0.84294347],\n",
       "       [-1.12908354, -0.97317433],\n",
       "       [ 0.87924385, -0.71749486],\n",
       "       [ 0.81479315,  0.89970038],\n",
       "       [ 1.25067523, -0.49655514],\n",
       "       [-0.81672914, -1.70716059],\n",
       "       [-0.11344983, -0.71749486],\n",
       "       [ 1.31028198,  1.31789249],\n",
       "       [-0.19398811,  0.26888583],\n",
       "       [-0.27629162, -0.29986145],\n",
       "       [ 1.8221169 ,  1.64272548],\n",
       "       [ 1.59976363,  1.46109915],\n",
       "       [ 1.25067523,  1.31789249],\n",
       "       [ 0.47963729,  0.1209006 ],\n",
       "       [ 0.54852367, -0.12128092],\n",
       "       [-0.53530047, -1.11979784],\n",
       "       [ 1.65607448,  1.68663008],\n",
       "       [ 0.87924385,  1.06349813],\n",
       "       [-1.24247753, -1.11979784],\n",
       "       [ 0.74953316,  0.89970038],\n",
       "       [-1.48854554, -2.02223253],\n",
       "       [ 0.11873986,  0.04312953],\n",
       "       [-0.03455335, -0.71749486],\n",
       "       [-0.53530047, -0.49655514],\n",
       "       [ 0.61643875,  0.33951754],\n",
       "       [ 1.00584876,  1.26867686],\n",
       "       [ 0.11873986, -0.84005312],\n",
       "       [-1.36187943, -1.28449532],\n",
       "       [-0.72000082, -0.49655514],\n",
       "       [ 1.65607448,  1.72997607],\n",
       "       [-0.36050053,  0.1209006 ],\n",
       "       [-0.36050053,  0.04312953],\n",
       "       [ 0.26663401,  0.60337981],\n",
       "       [-1.02077234, -0.49655514],\n",
       "       [-0.62629143, -0.29986145],\n",
       "       [ 0.26663401,  0.04312953],\n",
       "       [ 0.68342795,  1.06349813],\n",
       "       [-1.12908354, -1.11979784],\n",
       "       [ 0.19332141,  0.04312953],\n",
       "       [ 1.12958897,  1.36634754],\n",
       "       [-0.91683853, -0.39562866],\n",
       "       [ 0.19332141,  0.60337981],\n",
       "       [-0.03455335, -0.49655514],\n",
       "       [-0.19398811, -0.39562866],\n",
       "       [ 0.87924385,  0.33951754],\n",
       "       [-0.11344983, -0.84005312],\n",
       "       [ 1.06806314,  1.41407334],\n",
       "       [ 1.00584876,  0.60337981],\n",
       "       [-0.62629143, -0.2085903 ],\n",
       "       [ 0.81479315,  0.72581897],\n",
       "       [ 1.12958897,  0.04312953],\n",
       "       [-0.62629143, -0.29986145],\n",
       "       [-0.27629162,  0.19607812],\n",
       "       [ 1.1904517 ,  1.41407334],\n",
       "       [ 0.74953316,  1.06349813],\n",
       "       [ 0.81479315,  1.26867686],\n",
       "       [-0.44677519, -0.39562866],\n",
       "       [ 1.3692931 ,  0.84294347],\n",
       "       [ 1.25067523,  1.16782711],\n",
       "       [-1.6242611 , -1.28449532],\n",
       "       [ 0.47963729,  0.89970038],\n",
       "       [ 2.19433033,  1.89813923],\n",
       "       [ 1.1904517 ,  1.41407334],\n",
       "       [ 0.40973026,  0.84294347],\n",
       "       [ 0.11873986,  0.40814245],\n",
       "       [-1.12908354, -1.70716059],\n",
       "       [ 0.33874878,  0.47490923],\n",
       "       [ 1.8221169 ,  1.50745235],\n",
       "       [ 1.25067523,  1.26867686],\n",
       "       [ 0.54852367, -0.03749559],\n",
       "       [-0.81672914, -1.11979784],\n",
       "       [-0.53530047, -0.29986145],\n",
       "       [ 0.19332141,  0.04312953],\n",
       "       [ 0.68342795,  1.00992197],\n",
       "       [-0.03455335,  0.19607812],\n",
       "       [ 1.48560705,  1.50745235],\n",
       "       [-0.44677519, -0.39562866],\n",
       "       [-0.91683853, -1.70716059],\n",
       "       [ 1.00584876,  1.00992197],\n",
       "       [ 0.87924385,  1.06349813],\n",
       "       [-0.62629143, -0.60348074],\n",
       "       [ 0.19332141,  0.40814245],\n",
       "       [-0.72000082, -0.71749486],\n",
       "       [ 0.68342795,  0.78500622],\n",
       "       [ 0.47963729,  0.33951754],\n",
       "       [ 0.54852367,  0.78500622],\n",
       "       [-1.6242611 , -1.70716059],\n",
       "       [-1.36187943, -1.28449532],\n",
       "       [ 1.1904517 ,  1.41407334],\n",
       "       [-0.81672914, -0.60348074],\n",
       "       [-1.12908354, -1.28449532],\n",
       "       [ 0.47963729,  0.60337981],\n",
       "       [-1.12908354, -0.97317433],\n",
       "       [ 1.54294647,  1.68663008],\n",
       "       [ 0.47963729,  0.47490923],\n",
       "       [-0.44677519, -0.49655514],\n",
       "       [ 0.61643875,  0.84294347],\n",
       "       [ 0.61643875,  0.04312953],\n",
       "       [ 1.1904517 ,  1.31789249],\n",
       "       [ 0.87924385,  0.26888583],\n",
       "       [ 1.31028198,  0.33951754],\n",
       "       [ 0.68342795,  0.33951754],\n",
       "       [ 0.87924385,  1.00992197],\n",
       "       [ 0.74953316,  0.33951754],\n",
       "       [ 1.42772852,  0.72581897],\n",
       "       [ 0.33874878,  0.04312953],\n",
       "       [-1.12908354, -1.11979784]])"
      ]
     },
     "execution_count": 55,
     "metadata": {},
     "output_type": "execute_result"
    }
   ],
   "source": [
    "from sklearn.preprocessing import StandardScaler\n",
    "sc=StandardScaler()\n",
    "x=sc.fit_transform(x)\n",
    "x"
   ]
  },
  {
   "cell_type": "code",
   "execution_count": 56,
   "id": "f1d77fc5",
   "metadata": {},
   "outputs": [
    {
     "data": {
      "text/plain": [
       "3.6159935662091615e-17"
      ]
     },
     "execution_count": 56,
     "metadata": {},
     "output_type": "execute_result"
    }
   ],
   "source": [
    "x.mean()"
   ]
  },
  {
   "cell_type": "code",
   "execution_count": 57,
   "id": "c567fcaa",
   "metadata": {},
   "outputs": [],
   "source": [
    "from sklearn.model_selection import train_test_split\n",
    "from sklearn.linear_model import LogisticRegression\n",
    "lr=LogisticRegression()\n",
    "from sklearn.metrics import accuracy_score"
   ]
  },
  {
   "cell_type": "markdown",
   "id": "52052e11",
   "metadata": {},
   "source": [
    "# Splitting the dataframe"
   ]
  },
  {
   "cell_type": "code",
   "execution_count": 58,
   "id": "17dcb081",
   "metadata": {},
   "outputs": [
    {
     "name": "stdout",
     "output_type": "stream",
     "text": [
      "At random state 51 The model performs very well\n",
      "At random_state:- 51\n",
      "Training accuracy_score is:- 2.5\n",
      "Testing accuracy_score is:- 2.5 \n",
      "\n",
      "\n",
      "At random state 196 The model performs very well\n",
      "At random_state:- 196\n",
      "Training accuracy_score is:- 2.5\n",
      "Testing accuracy_score is:- 2.5 \n",
      "\n",
      "\n",
      "At random state 245 The model performs very well\n",
      "At random_state:- 245\n",
      "Training accuracy_score is:- 3.8\n",
      "Testing accuracy_score is:- 3.8 \n",
      "\n",
      "\n",
      "At random state 305 The model performs very well\n",
      "At random_state:- 305\n",
      "Training accuracy_score is:- 3.8\n",
      "Testing accuracy_score is:- 3.8 \n",
      "\n",
      "\n",
      "At random state 319 The model performs very well\n",
      "At random_state:- 319\n",
      "Training accuracy_score is:- 2.5\n",
      "Testing accuracy_score is:- 2.5 \n",
      "\n",
      "\n",
      "At random state 388 The model performs very well\n",
      "At random_state:- 388\n",
      "Training accuracy_score is:- 3.8\n",
      "Testing accuracy_score is:- 3.8 \n",
      "\n",
      "\n",
      "At random state 389 The model performs very well\n",
      "At random_state:- 389\n",
      "Training accuracy_score is:- 2.5\n",
      "Testing accuracy_score is:- 2.5 \n",
      "\n",
      "\n",
      "At random state 427 The model performs very well\n",
      "At random_state:- 427\n",
      "Training accuracy_score is:- 2.5\n",
      "Testing accuracy_score is:- 2.5 \n",
      "\n",
      "\n",
      "At random state 467 The model performs very well\n",
      "At random_state:- 467\n",
      "Training accuracy_score is:- 3.8\n",
      "Testing accuracy_score is:- 3.8 \n",
      "\n",
      "\n",
      "At random state 477 The model performs very well\n",
      "At random_state:- 477\n",
      "Training accuracy_score is:- 2.5\n",
      "Testing accuracy_score is:- 2.5 \n",
      "\n",
      "\n",
      "At random state 478 The model performs very well\n",
      "At random_state:- 478\n",
      "Training accuracy_score is:- 2.5\n",
      "Testing accuracy_score is:- 2.5 \n",
      "\n",
      "\n",
      "At random state 530 The model performs very well\n",
      "At random_state:- 530\n",
      "Training accuracy_score is:- 3.8\n",
      "Testing accuracy_score is:- 3.8 \n",
      "\n",
      "\n",
      "At random state 552 The model performs very well\n",
      "At random_state:- 552\n",
      "Training accuracy_score is:- 2.5\n",
      "Testing accuracy_score is:- 2.5 \n",
      "\n",
      "\n",
      "At random state 585 The model performs very well\n",
      "At random_state:- 585\n",
      "Training accuracy_score is:- 3.8\n",
      "Testing accuracy_score is:- 3.8 \n",
      "\n",
      "\n",
      "At random state 647 The model performs very well\n",
      "At random_state:- 647\n",
      "Training accuracy_score is:- 2.5\n",
      "Testing accuracy_score is:- 2.5 \n",
      "\n",
      "\n",
      "At random state 782 The model performs very well\n",
      "At random_state:- 782\n",
      "Training accuracy_score is:- 3.8\n",
      "Testing accuracy_score is:- 3.8 \n",
      "\n",
      "\n",
      "At random state 789 The model performs very well\n",
      "At random_state:- 789\n",
      "Training accuracy_score is:- 3.8\n",
      "Testing accuracy_score is:- 3.8 \n",
      "\n",
      "\n",
      "At random state 798 The model performs very well\n",
      "At random_state:- 798\n",
      "Training accuracy_score is:- 3.8\n",
      "Testing accuracy_score is:- 3.8 \n",
      "\n",
      "\n",
      "At random state 841 The model performs very well\n",
      "At random_state:- 841\n",
      "Training accuracy_score is:- 2.5\n",
      "Testing accuracy_score is:- 2.5 \n",
      "\n",
      "\n",
      "At random state 863 The model performs very well\n",
      "At random_state:- 863\n",
      "Training accuracy_score is:- 3.8\n",
      "Testing accuracy_score is:- 3.8 \n",
      "\n",
      "\n",
      "At random state 872 The model performs very well\n",
      "At random_state:- 872\n",
      "Training accuracy_score is:- 2.5\n",
      "Testing accuracy_score is:- 2.5 \n",
      "\n",
      "\n",
      "At random state 873 The model performs very well\n",
      "At random_state:- 873\n",
      "Training accuracy_score is:- 2.5\n",
      "Testing accuracy_score is:- 2.5 \n",
      "\n",
      "\n"
     ]
    }
   ],
   "source": [
    "for i in range(0,1000):\n",
    "    x_train,x_test,y_train,y_test=train_test_split(x,y,random_state=i,test_size=0.20)\n",
    "    lr.fit(x_train,y_train)\n",
    "    pred_train=lr.predict(x_train)\n",
    "    pred_test=lr.predict(x_test)\n",
    "    if round(accuracy_score(y_train,pred_train)*100,1)==round(accuracy_score(y_test,pred_test)*100,1):\n",
    "        print(\"At random state\",i,\"The model performs very well\")\n",
    "        print(\"At random_state:-\",i)\n",
    "        print(\"Training accuracy_score is:-\", round(accuracy_score(y_train,pred_train)*100,1))\n",
    "        print(\"Testing accuracy_score is:-\",round(accuracy_score(y_test,pred_test)*100,1),'\\n\\n')"
   ]
  },
  {
   "cell_type": "code",
   "execution_count": 59,
   "id": "94c8112c",
   "metadata": {},
   "outputs": [],
   "source": [
    "x_train,x_test,y_train,y_test=train_test_split(x,y,test_size=.20,random_state=827)"
   ]
  },
  {
   "cell_type": "code",
   "execution_count": 60,
   "id": "0e73ac45",
   "metadata": {},
   "outputs": [
    {
     "data": {
      "text/html": [
       "<style>#sk-container-id-1 {color: black;background-color: white;}#sk-container-id-1 pre{padding: 0;}#sk-container-id-1 div.sk-toggleable {background-color: white;}#sk-container-id-1 label.sk-toggleable__label {cursor: pointer;display: block;width: 100%;margin-bottom: 0;padding: 0.3em;box-sizing: border-box;text-align: center;}#sk-container-id-1 label.sk-toggleable__label-arrow:before {content: \"▸\";float: left;margin-right: 0.25em;color: #696969;}#sk-container-id-1 label.sk-toggleable__label-arrow:hover:before {color: black;}#sk-container-id-1 div.sk-estimator:hover label.sk-toggleable__label-arrow:before {color: black;}#sk-container-id-1 div.sk-toggleable__content {max-height: 0;max-width: 0;overflow: hidden;text-align: left;background-color: #f0f8ff;}#sk-container-id-1 div.sk-toggleable__content pre {margin: 0.2em;color: black;border-radius: 0.25em;background-color: #f0f8ff;}#sk-container-id-1 input.sk-toggleable__control:checked~div.sk-toggleable__content {max-height: 200px;max-width: 100%;overflow: auto;}#sk-container-id-1 input.sk-toggleable__control:checked~label.sk-toggleable__label-arrow:before {content: \"▾\";}#sk-container-id-1 div.sk-estimator input.sk-toggleable__control:checked~label.sk-toggleable__label {background-color: #d4ebff;}#sk-container-id-1 div.sk-label input.sk-toggleable__control:checked~label.sk-toggleable__label {background-color: #d4ebff;}#sk-container-id-1 input.sk-hidden--visually {border: 0;clip: rect(1px 1px 1px 1px);clip: rect(1px, 1px, 1px, 1px);height: 1px;margin: -1px;overflow: hidden;padding: 0;position: absolute;width: 1px;}#sk-container-id-1 div.sk-estimator {font-family: monospace;background-color: #f0f8ff;border: 1px dotted black;border-radius: 0.25em;box-sizing: border-box;margin-bottom: 0.5em;}#sk-container-id-1 div.sk-estimator:hover {background-color: #d4ebff;}#sk-container-id-1 div.sk-parallel-item::after {content: \"\";width: 100%;border-bottom: 1px solid gray;flex-grow: 1;}#sk-container-id-1 div.sk-label:hover label.sk-toggleable__label {background-color: #d4ebff;}#sk-container-id-1 div.sk-serial::before {content: \"\";position: absolute;border-left: 1px solid gray;box-sizing: border-box;top: 0;bottom: 0;left: 50%;z-index: 0;}#sk-container-id-1 div.sk-serial {display: flex;flex-direction: column;align-items: center;background-color: white;padding-right: 0.2em;padding-left: 0.2em;position: relative;}#sk-container-id-1 div.sk-item {position: relative;z-index: 1;}#sk-container-id-1 div.sk-parallel {display: flex;align-items: stretch;justify-content: center;background-color: white;position: relative;}#sk-container-id-1 div.sk-item::before, #sk-container-id-1 div.sk-parallel-item::before {content: \"\";position: absolute;border-left: 1px solid gray;box-sizing: border-box;top: 0;bottom: 0;left: 50%;z-index: -1;}#sk-container-id-1 div.sk-parallel-item {display: flex;flex-direction: column;z-index: 1;position: relative;background-color: white;}#sk-container-id-1 div.sk-parallel-item:first-child::after {align-self: flex-end;width: 50%;}#sk-container-id-1 div.sk-parallel-item:last-child::after {align-self: flex-start;width: 50%;}#sk-container-id-1 div.sk-parallel-item:only-child::after {width: 0;}#sk-container-id-1 div.sk-dashed-wrapped {border: 1px dashed gray;margin: 0 0.4em 0.5em 0.4em;box-sizing: border-box;padding-bottom: 0.4em;background-color: white;}#sk-container-id-1 div.sk-label label {font-family: monospace;font-weight: bold;display: inline-block;line-height: 1.2em;}#sk-container-id-1 div.sk-label-container {text-align: center;}#sk-container-id-1 div.sk-container {/* jupyter's `normalize.less` sets `[hidden] { display: none; }` but bootstrap.min.css set `[hidden] { display: none !important; }` so we also need the `!important` here to be able to override the default hidden behavior on the sphinx rendered scikit-learn.org. See: https://github.com/scikit-learn/scikit-learn/issues/21755 */display: inline-block !important;position: relative;}#sk-container-id-1 div.sk-text-repr-fallback {display: none;}</style><div id=\"sk-container-id-1\" class=\"sk-top-container\"><div class=\"sk-text-repr-fallback\"><pre>LogisticRegression()</pre><b>In a Jupyter environment, please rerun this cell to show the HTML representation or trust the notebook. <br />On GitHub, the HTML representation is unable to render, please try loading this page with nbviewer.org.</b></div><div class=\"sk-container\" hidden><div class=\"sk-item\"><div class=\"sk-estimator sk-toggleable\"><input class=\"sk-toggleable__control sk-hidden--visually\" id=\"sk-estimator-id-1\" type=\"checkbox\" checked><label for=\"sk-estimator-id-1\" class=\"sk-toggleable__label sk-toggleable__label-arrow\">LogisticRegression</label><div class=\"sk-toggleable__content\"><pre>LogisticRegression()</pre></div></div></div></div></div>"
      ],
      "text/plain": [
       "LogisticRegression()"
      ]
     },
     "execution_count": 60,
     "metadata": {},
     "output_type": "execute_result"
    }
   ],
   "source": [
    "lr.fit(x_train,y_train)"
   ]
  },
  {
   "cell_type": "code",
   "execution_count": 61,
   "id": "f97ff710",
   "metadata": {},
   "outputs": [],
   "source": [
    "pred_train=lr.predict(x_train)"
   ]
  },
  {
   "cell_type": "code",
   "execution_count": 62,
   "id": "8ac0f8a9",
   "metadata": {},
   "outputs": [],
   "source": [
    "pred_test=lr.predict(x_test)"
   ]
  },
  {
   "cell_type": "code",
   "execution_count": 63,
   "id": "c0388b68",
   "metadata": {},
   "outputs": [
    {
     "data": {
      "text/plain": [
       "0.0"
      ]
     },
     "execution_count": 63,
     "metadata": {},
     "output_type": "execute_result"
    }
   ],
   "source": [
    "accuracy_score(y_test,pred_test)"
   ]
  },
  {
   "cell_type": "code",
   "execution_count": 64,
   "id": "2099be8c",
   "metadata": {},
   "outputs": [
    {
     "data": {
      "text/plain": [
       "0.028662420382165606"
      ]
     },
     "execution_count": 64,
     "metadata": {},
     "output_type": "execute_result"
    }
   ],
   "source": [
    "accuracy_score(y_train,pred_train)"
   ]
  },
  {
   "cell_type": "code",
   "execution_count": 65,
   "id": "86dcfb07",
   "metadata": {},
   "outputs": [
    {
     "name": "stdout",
     "output_type": "stream",
     "text": [
      "              precision    recall  f1-score   support\n",
      "\n",
      "       62884       0.00      0.00      0.00       1.0\n",
      "       63900       0.00      0.00      0.00       1.0\n",
      "       68404       0.00      0.00      0.00       1.0\n",
      "       69200       0.00      0.00      0.00       1.0\n",
      "       71065       0.00      0.00      0.00       1.0\n",
      "       72500       0.00      0.00      0.00       0.0\n",
      "       74000       0.00      0.00      0.00       0.0\n",
      "       74692       0.00      0.00      0.00       1.0\n",
      "       74830       0.00      0.00      0.00       1.0\n",
      "       77000       0.00      0.00      0.00       1.0\n",
      "       78000       0.00      0.00      0.00       1.0\n",
      "       78162       0.00      0.00      0.00       1.0\n",
      "       79916       0.00      0.00      0.00       1.0\n",
      "       80225       0.00      0.00      0.00       1.0\n",
      "       81800       0.00      0.00      0.00       1.0\n",
      "       83850       0.00      0.00      0.00       1.0\n",
      "       84273       0.00      0.00      0.00       1.0\n",
      "       86895       0.00      0.00      0.00       1.0\n",
      "       88400       0.00      0.00      0.00       1.0\n",
      "       88600       0.00      0.00      0.00       0.0\n",
      "       88650       0.00      0.00      0.00       1.0\n",
      "       89516       0.00      0.00      0.00       1.0\n",
      "       90450       0.00      0.00      0.00       1.0\n",
      "       92000       0.00      0.00      0.00       0.0\n",
      "       92050       0.00      0.00      0.00       1.0\n",
      "       92700       0.00      0.00      0.00       1.0\n",
      "       93418       0.00      0.00      0.00       1.0\n",
      "       93519       0.00      0.00      0.00       1.0\n",
      "       94350       0.00      0.00      0.00       1.0\n",
      "       95408       0.00      0.00      0.00       1.0\n",
      "       96200       0.00      0.00      0.00       1.0\n",
      "       97000       0.00      0.00      0.00       1.0\n",
      "       98193       0.00      0.00      0.00       1.0\n",
      "      100522       0.00      0.00      0.00       1.0\n",
      "      100600       0.00      0.00      0.00       1.0\n",
      "      100944       0.00      0.00      0.00       1.0\n",
      "      101000       0.00      0.00      0.00       2.0\n",
      "      101100       0.00      0.00      0.00       1.0\n",
      "      101738       0.00      0.00      0.00       1.0\n",
      "      102235       0.00      0.00      0.00       1.0\n",
      "      104121       0.00      0.00      0.00       1.0\n",
      "      104350       0.00      0.00      0.00       1.0\n",
      "      105000       0.00      0.00      0.00       1.0\n",
      "      105260       0.00      0.00      0.00       1.0\n",
      "      105350       0.00      0.00      0.00       1.0\n",
      "      105668       0.00      0.00      0.00       1.0\n",
      "      106231       0.00      0.00      0.00       1.0\n",
      "      106608       0.00      0.00      0.00       1.0\n",
      "      108100       0.00      0.00      0.00       1.0\n",
      "      109785       0.00      0.00      0.00       1.0\n",
      "      111350       0.00      0.00      0.00       1.0\n",
      "      113600       0.00      0.00      0.00       1.0\n",
      "      115000       0.00      0.00      0.00       1.0\n",
      "      115435       0.00      0.00      0.00       1.0\n",
      "      118700       0.00      0.00      0.00       1.0\n",
      "      119800       0.00      0.00      0.00       1.0\n",
      "      121946       0.00      0.00      0.00       1.0\n",
      "      122400       0.00      0.00      0.00       1.0\n",
      "      124309       0.00      0.00      0.00       1.0\n",
      "      124312       0.00      0.00      0.00       1.0\n",
      "      124714       0.00      0.00      0.00       1.0\n",
      "      126933       0.00      0.00      0.00       1.0\n",
      "      127100       0.00      0.00      0.00       1.0\n",
      "      129000       0.00      0.00      0.00       1.0\n",
      "      130664       0.00      0.00      0.00       1.0\n",
      "      132000       0.00      0.00      0.00       1.0\n",
      "      134185       0.00      0.00      0.00       1.0\n",
      "      137167       0.00      0.00      0.00       1.0\n",
      "      137317       0.00      0.00      0.00       1.0\n",
      "      139219       0.00      0.00      0.00       1.0\n",
      "      145000       0.00      0.00      0.00       1.0\n",
      "      145350       0.00      0.00      0.00       1.0\n",
      "      146856       0.00      0.00      0.00       1.0\n",
      "      148500       0.00      0.00      0.00       1.0\n",
      "      150480       0.00      0.00      0.00       1.0\n",
      "      151768       0.00      0.00      0.00       1.0\n",
      "      155500       0.00      0.00      0.00       1.0\n",
      "      156938       0.00      0.00      0.00       1.0\n",
      "      161101       0.00      0.00      0.00       1.0\n",
      "      162221       0.00      0.00      0.00       1.0\n",
      "      163200       0.00      0.00      0.00       0.0\n",
      "      173200       0.00      0.00      0.00       1.0\n",
      "      193000       0.00      0.00      0.00       1.0\n",
      "\n",
      "    accuracy                           0.00      79.0\n",
      "   macro avg       0.00      0.00      0.00      79.0\n",
      "weighted avg       0.00      0.00      0.00      79.0\n",
      "\n"
     ]
    }
   ],
   "source": [
    "from sklearn.metrics import classification_report\n",
    "print(classification_report(y_test,pred_test))"
   ]
  },
  {
   "cell_type": "markdown",
   "id": "7f9240f4",
   "metadata": {},
   "source": [
    "# Cross validation score for logistic regression:"
   ]
  },
  {
   "cell_type": "code",
   "execution_count": 66,
   "id": "2f7a3592",
   "metadata": {},
   "outputs": [],
   "source": [
    "pred_lr=lr.predict(x_test)\n",
    "from sklearn.model_selection import cross_val_score\n",
    "lss=accuracy_score(y_test,pred_lr)"
   ]
  },
  {
   "cell_type": "code",
   "execution_count": 67,
   "id": "6de0e3ec",
   "metadata": {},
   "outputs": [
    {
     "name": "stdout",
     "output_type": "stream",
     "text": [
      "At cv:- 2\n",
      "cross validation score is:- 1.5267274422459338\n",
      "accuracy_score is:- 0.0\n",
      "\n",
      "\n",
      "At cv:- 3\n",
      "cross validation score is:- 1.5267175572519083\n",
      "accuracy_score is:- 0.0\n",
      "\n",
      "\n",
      "At cv:- 4\n",
      "cross validation score is:- 1.2729334157905585\n",
      "accuracy_score is:- 0.0\n",
      "\n",
      "\n",
      "At cv:- 5\n",
      "cross validation score is:- 1.525478740668614\n",
      "accuracy_score is:- 0.0\n",
      "\n",
      "\n"
     ]
    },
    {
     "ename": "ValueError",
     "evalue": "n_splits=6 cannot be greater than the number of members in each class.",
     "output_type": "error",
     "traceback": [
      "\u001b[1;31m---------------------------------------------------------------------------\u001b[0m",
      "\u001b[1;31mEmpty\u001b[0m                                     Traceback (most recent call last)",
      "\u001b[1;32m~\\anaconda3\\lib\\site-packages\\joblib\\parallel.py\u001b[0m in \u001b[0;36mdispatch_one_batch\u001b[1;34m(self, iterator)\u001b[0m\n\u001b[0;32m    821\u001b[0m             \u001b[1;32mtry\u001b[0m\u001b[1;33m:\u001b[0m\u001b[1;33m\u001b[0m\u001b[1;33m\u001b[0m\u001b[0m\n\u001b[1;32m--> 822\u001b[1;33m                 \u001b[0mtasks\u001b[0m \u001b[1;33m=\u001b[0m \u001b[0mself\u001b[0m\u001b[1;33m.\u001b[0m\u001b[0m_ready_batches\u001b[0m\u001b[1;33m.\u001b[0m\u001b[0mget\u001b[0m\u001b[1;33m(\u001b[0m\u001b[0mblock\u001b[0m\u001b[1;33m=\u001b[0m\u001b[1;32mFalse\u001b[0m\u001b[1;33m)\u001b[0m\u001b[1;33m\u001b[0m\u001b[1;33m\u001b[0m\u001b[0m\n\u001b[0m\u001b[0;32m    823\u001b[0m             \u001b[1;32mexcept\u001b[0m \u001b[0mqueue\u001b[0m\u001b[1;33m.\u001b[0m\u001b[0mEmpty\u001b[0m\u001b[1;33m:\u001b[0m\u001b[1;33m\u001b[0m\u001b[1;33m\u001b[0m\u001b[0m\n",
      "\u001b[1;32m~\\anaconda3\\lib\\queue.py\u001b[0m in \u001b[0;36mget\u001b[1;34m(self, block, timeout)\u001b[0m\n\u001b[0;32m    167\u001b[0m                 \u001b[1;32mif\u001b[0m \u001b[1;32mnot\u001b[0m \u001b[0mself\u001b[0m\u001b[1;33m.\u001b[0m\u001b[0m_qsize\u001b[0m\u001b[1;33m(\u001b[0m\u001b[1;33m)\u001b[0m\u001b[1;33m:\u001b[0m\u001b[1;33m\u001b[0m\u001b[1;33m\u001b[0m\u001b[0m\n\u001b[1;32m--> 168\u001b[1;33m                     \u001b[1;32mraise\u001b[0m \u001b[0mEmpty\u001b[0m\u001b[1;33m\u001b[0m\u001b[1;33m\u001b[0m\u001b[0m\n\u001b[0m\u001b[0;32m    169\u001b[0m             \u001b[1;32melif\u001b[0m \u001b[0mtimeout\u001b[0m \u001b[1;32mis\u001b[0m \u001b[1;32mNone\u001b[0m\u001b[1;33m:\u001b[0m\u001b[1;33m\u001b[0m\u001b[1;33m\u001b[0m\u001b[0m\n",
      "\u001b[1;31mEmpty\u001b[0m: ",
      "\nDuring handling of the above exception, another exception occurred:\n",
      "\u001b[1;31mValueError\u001b[0m                                Traceback (most recent call last)",
      "\u001b[1;32m~\\AppData\\Local\\Temp/ipykernel_10236/3287146786.py\u001b[0m in \u001b[0;36m<module>\u001b[1;34m\u001b[0m\n\u001b[0;32m      1\u001b[0m \u001b[1;32mfor\u001b[0m \u001b[0mj\u001b[0m \u001b[1;32min\u001b[0m \u001b[0mrange\u001b[0m \u001b[1;33m(\u001b[0m\u001b[1;36m2\u001b[0m\u001b[1;33m,\u001b[0m\u001b[1;36m10\u001b[0m\u001b[1;33m)\u001b[0m\u001b[1;33m:\u001b[0m\u001b[1;33m\u001b[0m\u001b[1;33m\u001b[0m\u001b[0m\n\u001b[1;32m----> 2\u001b[1;33m     \u001b[0mlsscore\u001b[0m\u001b[1;33m=\u001b[0m\u001b[0mcross_val_score\u001b[0m\u001b[1;33m(\u001b[0m\u001b[0mlr\u001b[0m\u001b[1;33m,\u001b[0m\u001b[0mx\u001b[0m\u001b[1;33m,\u001b[0m\u001b[0my\u001b[0m\u001b[1;33m,\u001b[0m\u001b[0mcv\u001b[0m\u001b[1;33m=\u001b[0m\u001b[0mj\u001b[0m\u001b[1;33m)\u001b[0m\u001b[1;33m\u001b[0m\u001b[1;33m\u001b[0m\u001b[0m\n\u001b[0m\u001b[0;32m      3\u001b[0m     \u001b[0mlsc\u001b[0m\u001b[1;33m=\u001b[0m\u001b[0mlsscore\u001b[0m\u001b[1;33m.\u001b[0m\u001b[0mmean\u001b[0m\u001b[1;33m(\u001b[0m\u001b[1;33m)\u001b[0m\u001b[1;33m\u001b[0m\u001b[1;33m\u001b[0m\u001b[0m\n\u001b[0;32m      4\u001b[0m     \u001b[0mprint\u001b[0m\u001b[1;33m(\u001b[0m\u001b[1;34m\"At cv:-\"\u001b[0m\u001b[1;33m,\u001b[0m\u001b[0mj\u001b[0m\u001b[1;33m)\u001b[0m\u001b[1;33m\u001b[0m\u001b[1;33m\u001b[0m\u001b[0m\n\u001b[0;32m      5\u001b[0m     \u001b[0mprint\u001b[0m\u001b[1;33m(\u001b[0m\u001b[1;34m\"cross validation score is:-\"\u001b[0m\u001b[1;33m,\u001b[0m\u001b[0mlsc\u001b[0m\u001b[1;33m*\u001b[0m\u001b[1;36m100\u001b[0m\u001b[1;33m)\u001b[0m\u001b[1;33m\u001b[0m\u001b[1;33m\u001b[0m\u001b[0m\n",
      "\u001b[1;32m~\\anaconda3\\lib\\site-packages\\sklearn\\model_selection\\_validation.py\u001b[0m in \u001b[0;36mcross_val_score\u001b[1;34m(estimator, X, y, groups, scoring, cv, n_jobs, verbose, fit_params, pre_dispatch, error_score)\u001b[0m\n\u001b[0;32m    513\u001b[0m     \u001b[0mscorer\u001b[0m \u001b[1;33m=\u001b[0m \u001b[0mcheck_scoring\u001b[0m\u001b[1;33m(\u001b[0m\u001b[0mestimator\u001b[0m\u001b[1;33m,\u001b[0m \u001b[0mscoring\u001b[0m\u001b[1;33m=\u001b[0m\u001b[0mscoring\u001b[0m\u001b[1;33m)\u001b[0m\u001b[1;33m\u001b[0m\u001b[1;33m\u001b[0m\u001b[0m\n\u001b[0;32m    514\u001b[0m \u001b[1;33m\u001b[0m\u001b[0m\n\u001b[1;32m--> 515\u001b[1;33m     cv_results = cross_validate(\n\u001b[0m\u001b[0;32m    516\u001b[0m         \u001b[0mestimator\u001b[0m\u001b[1;33m=\u001b[0m\u001b[0mestimator\u001b[0m\u001b[1;33m,\u001b[0m\u001b[1;33m\u001b[0m\u001b[1;33m\u001b[0m\u001b[0m\n\u001b[0;32m    517\u001b[0m         \u001b[0mX\u001b[0m\u001b[1;33m=\u001b[0m\u001b[0mX\u001b[0m\u001b[1;33m,\u001b[0m\u001b[1;33m\u001b[0m\u001b[1;33m\u001b[0m\u001b[0m\n",
      "\u001b[1;32m~\\anaconda3\\lib\\site-packages\\sklearn\\model_selection\\_validation.py\u001b[0m in \u001b[0;36mcross_validate\u001b[1;34m(estimator, X, y, groups, scoring, cv, n_jobs, verbose, fit_params, pre_dispatch, return_train_score, return_estimator, error_score)\u001b[0m\n\u001b[0;32m    264\u001b[0m     \u001b[1;31m# independent, and that it is pickle-able.\u001b[0m\u001b[1;33m\u001b[0m\u001b[1;33m\u001b[0m\u001b[0m\n\u001b[0;32m    265\u001b[0m     \u001b[0mparallel\u001b[0m \u001b[1;33m=\u001b[0m \u001b[0mParallel\u001b[0m\u001b[1;33m(\u001b[0m\u001b[0mn_jobs\u001b[0m\u001b[1;33m=\u001b[0m\u001b[0mn_jobs\u001b[0m\u001b[1;33m,\u001b[0m \u001b[0mverbose\u001b[0m\u001b[1;33m=\u001b[0m\u001b[0mverbose\u001b[0m\u001b[1;33m,\u001b[0m \u001b[0mpre_dispatch\u001b[0m\u001b[1;33m=\u001b[0m\u001b[0mpre_dispatch\u001b[0m\u001b[1;33m)\u001b[0m\u001b[1;33m\u001b[0m\u001b[1;33m\u001b[0m\u001b[0m\n\u001b[1;32m--> 266\u001b[1;33m     results = parallel(\n\u001b[0m\u001b[0;32m    267\u001b[0m         delayed(_fit_and_score)(\n\u001b[0;32m    268\u001b[0m             \u001b[0mclone\u001b[0m\u001b[1;33m(\u001b[0m\u001b[0mestimator\u001b[0m\u001b[1;33m)\u001b[0m\u001b[1;33m,\u001b[0m\u001b[1;33m\u001b[0m\u001b[1;33m\u001b[0m\u001b[0m\n",
      "\u001b[1;32m~\\anaconda3\\lib\\site-packages\\joblib\\parallel.py\u001b[0m in \u001b[0;36m__call__\u001b[1;34m(self, iterable)\u001b[0m\n\u001b[0;32m   1041\u001b[0m             \u001b[1;31m# remaining jobs.\u001b[0m\u001b[1;33m\u001b[0m\u001b[1;33m\u001b[0m\u001b[0m\n\u001b[0;32m   1042\u001b[0m             \u001b[0mself\u001b[0m\u001b[1;33m.\u001b[0m\u001b[0m_iterating\u001b[0m \u001b[1;33m=\u001b[0m \u001b[1;32mFalse\u001b[0m\u001b[1;33m\u001b[0m\u001b[1;33m\u001b[0m\u001b[0m\n\u001b[1;32m-> 1043\u001b[1;33m             \u001b[1;32mif\u001b[0m \u001b[0mself\u001b[0m\u001b[1;33m.\u001b[0m\u001b[0mdispatch_one_batch\u001b[0m\u001b[1;33m(\u001b[0m\u001b[0miterator\u001b[0m\u001b[1;33m)\u001b[0m\u001b[1;33m:\u001b[0m\u001b[1;33m\u001b[0m\u001b[1;33m\u001b[0m\u001b[0m\n\u001b[0m\u001b[0;32m   1044\u001b[0m                 \u001b[0mself\u001b[0m\u001b[1;33m.\u001b[0m\u001b[0m_iterating\u001b[0m \u001b[1;33m=\u001b[0m \u001b[0mself\u001b[0m\u001b[1;33m.\u001b[0m\u001b[0m_original_iterator\u001b[0m \u001b[1;32mis\u001b[0m \u001b[1;32mnot\u001b[0m \u001b[1;32mNone\u001b[0m\u001b[1;33m\u001b[0m\u001b[1;33m\u001b[0m\u001b[0m\n\u001b[0;32m   1045\u001b[0m \u001b[1;33m\u001b[0m\u001b[0m\n",
      "\u001b[1;32m~\\anaconda3\\lib\\site-packages\\joblib\\parallel.py\u001b[0m in \u001b[0;36mdispatch_one_batch\u001b[1;34m(self, iterator)\u001b[0m\n\u001b[0;32m    831\u001b[0m                 \u001b[0mbig_batch_size\u001b[0m \u001b[1;33m=\u001b[0m \u001b[0mbatch_size\u001b[0m \u001b[1;33m*\u001b[0m \u001b[0mn_jobs\u001b[0m\u001b[1;33m\u001b[0m\u001b[1;33m\u001b[0m\u001b[0m\n\u001b[0;32m    832\u001b[0m \u001b[1;33m\u001b[0m\u001b[0m\n\u001b[1;32m--> 833\u001b[1;33m                 \u001b[0mislice\u001b[0m \u001b[1;33m=\u001b[0m \u001b[0mlist\u001b[0m\u001b[1;33m(\u001b[0m\u001b[0mitertools\u001b[0m\u001b[1;33m.\u001b[0m\u001b[0mislice\u001b[0m\u001b[1;33m(\u001b[0m\u001b[0miterator\u001b[0m\u001b[1;33m,\u001b[0m \u001b[0mbig_batch_size\u001b[0m\u001b[1;33m)\u001b[0m\u001b[1;33m)\u001b[0m\u001b[1;33m\u001b[0m\u001b[1;33m\u001b[0m\u001b[0m\n\u001b[0m\u001b[0;32m    834\u001b[0m                 \u001b[1;32mif\u001b[0m \u001b[0mlen\u001b[0m\u001b[1;33m(\u001b[0m\u001b[0mislice\u001b[0m\u001b[1;33m)\u001b[0m \u001b[1;33m==\u001b[0m \u001b[1;36m0\u001b[0m\u001b[1;33m:\u001b[0m\u001b[1;33m\u001b[0m\u001b[1;33m\u001b[0m\u001b[0m\n\u001b[0;32m    835\u001b[0m                     \u001b[1;32mreturn\u001b[0m \u001b[1;32mFalse\u001b[0m\u001b[1;33m\u001b[0m\u001b[1;33m\u001b[0m\u001b[0m\n",
      "\u001b[1;32m~\\anaconda3\\lib\\site-packages\\sklearn\\model_selection\\_validation.py\u001b[0m in \u001b[0;36m<genexpr>\u001b[1;34m(.0)\u001b[0m\n\u001b[0;32m    264\u001b[0m     \u001b[1;31m# independent, and that it is pickle-able.\u001b[0m\u001b[1;33m\u001b[0m\u001b[1;33m\u001b[0m\u001b[0m\n\u001b[0;32m    265\u001b[0m     \u001b[0mparallel\u001b[0m \u001b[1;33m=\u001b[0m \u001b[0mParallel\u001b[0m\u001b[1;33m(\u001b[0m\u001b[0mn_jobs\u001b[0m\u001b[1;33m=\u001b[0m\u001b[0mn_jobs\u001b[0m\u001b[1;33m,\u001b[0m \u001b[0mverbose\u001b[0m\u001b[1;33m=\u001b[0m\u001b[0mverbose\u001b[0m\u001b[1;33m,\u001b[0m \u001b[0mpre_dispatch\u001b[0m\u001b[1;33m=\u001b[0m\u001b[0mpre_dispatch\u001b[0m\u001b[1;33m)\u001b[0m\u001b[1;33m\u001b[0m\u001b[1;33m\u001b[0m\u001b[0m\n\u001b[1;32m--> 266\u001b[1;33m     results = parallel(\n\u001b[0m\u001b[0;32m    267\u001b[0m         delayed(_fit_and_score)(\n\u001b[0;32m    268\u001b[0m             \u001b[0mclone\u001b[0m\u001b[1;33m(\u001b[0m\u001b[0mestimator\u001b[0m\u001b[1;33m)\u001b[0m\u001b[1;33m,\u001b[0m\u001b[1;33m\u001b[0m\u001b[1;33m\u001b[0m\u001b[0m\n",
      "\u001b[1;32m~\\anaconda3\\lib\\site-packages\\sklearn\\model_selection\\_split.py\u001b[0m in \u001b[0;36msplit\u001b[1;34m(self, X, y, groups)\u001b[0m\n\u001b[0;32m    338\u001b[0m             )\n\u001b[0;32m    339\u001b[0m \u001b[1;33m\u001b[0m\u001b[0m\n\u001b[1;32m--> 340\u001b[1;33m         \u001b[1;32mfor\u001b[0m \u001b[0mtrain\u001b[0m\u001b[1;33m,\u001b[0m \u001b[0mtest\u001b[0m \u001b[1;32min\u001b[0m \u001b[0msuper\u001b[0m\u001b[1;33m(\u001b[0m\u001b[1;33m)\u001b[0m\u001b[1;33m.\u001b[0m\u001b[0msplit\u001b[0m\u001b[1;33m(\u001b[0m\u001b[0mX\u001b[0m\u001b[1;33m,\u001b[0m \u001b[0my\u001b[0m\u001b[1;33m,\u001b[0m \u001b[0mgroups\u001b[0m\u001b[1;33m)\u001b[0m\u001b[1;33m:\u001b[0m\u001b[1;33m\u001b[0m\u001b[1;33m\u001b[0m\u001b[0m\n\u001b[0m\u001b[0;32m    341\u001b[0m             \u001b[1;32myield\u001b[0m \u001b[0mtrain\u001b[0m\u001b[1;33m,\u001b[0m \u001b[0mtest\u001b[0m\u001b[1;33m\u001b[0m\u001b[1;33m\u001b[0m\u001b[0m\n\u001b[0;32m    342\u001b[0m \u001b[1;33m\u001b[0m\u001b[0m\n",
      "\u001b[1;32m~\\anaconda3\\lib\\site-packages\\sklearn\\model_selection\\_split.py\u001b[0m in \u001b[0;36msplit\u001b[1;34m(self, X, y, groups)\u001b[0m\n\u001b[0;32m     84\u001b[0m         \u001b[0mX\u001b[0m\u001b[1;33m,\u001b[0m \u001b[0my\u001b[0m\u001b[1;33m,\u001b[0m \u001b[0mgroups\u001b[0m \u001b[1;33m=\u001b[0m \u001b[0mindexable\u001b[0m\u001b[1;33m(\u001b[0m\u001b[0mX\u001b[0m\u001b[1;33m,\u001b[0m \u001b[0my\u001b[0m\u001b[1;33m,\u001b[0m \u001b[0mgroups\u001b[0m\u001b[1;33m)\u001b[0m\u001b[1;33m\u001b[0m\u001b[1;33m\u001b[0m\u001b[0m\n\u001b[0;32m     85\u001b[0m         \u001b[0mindices\u001b[0m \u001b[1;33m=\u001b[0m \u001b[0mnp\u001b[0m\u001b[1;33m.\u001b[0m\u001b[0marange\u001b[0m\u001b[1;33m(\u001b[0m\u001b[0m_num_samples\u001b[0m\u001b[1;33m(\u001b[0m\u001b[0mX\u001b[0m\u001b[1;33m)\u001b[0m\u001b[1;33m)\u001b[0m\u001b[1;33m\u001b[0m\u001b[1;33m\u001b[0m\u001b[0m\n\u001b[1;32m---> 86\u001b[1;33m         \u001b[1;32mfor\u001b[0m \u001b[0mtest_index\u001b[0m \u001b[1;32min\u001b[0m \u001b[0mself\u001b[0m\u001b[1;33m.\u001b[0m\u001b[0m_iter_test_masks\u001b[0m\u001b[1;33m(\u001b[0m\u001b[0mX\u001b[0m\u001b[1;33m,\u001b[0m \u001b[0my\u001b[0m\u001b[1;33m,\u001b[0m \u001b[0mgroups\u001b[0m\u001b[1;33m)\u001b[0m\u001b[1;33m:\u001b[0m\u001b[1;33m\u001b[0m\u001b[1;33m\u001b[0m\u001b[0m\n\u001b[0m\u001b[0;32m     87\u001b[0m             \u001b[0mtrain_index\u001b[0m \u001b[1;33m=\u001b[0m \u001b[0mindices\u001b[0m\u001b[1;33m[\u001b[0m\u001b[0mnp\u001b[0m\u001b[1;33m.\u001b[0m\u001b[0mlogical_not\u001b[0m\u001b[1;33m(\u001b[0m\u001b[0mtest_index\u001b[0m\u001b[1;33m)\u001b[0m\u001b[1;33m]\u001b[0m\u001b[1;33m\u001b[0m\u001b[1;33m\u001b[0m\u001b[0m\n\u001b[0;32m     88\u001b[0m             \u001b[0mtest_index\u001b[0m \u001b[1;33m=\u001b[0m \u001b[0mindices\u001b[0m\u001b[1;33m[\u001b[0m\u001b[0mtest_index\u001b[0m\u001b[1;33m]\u001b[0m\u001b[1;33m\u001b[0m\u001b[1;33m\u001b[0m\u001b[0m\n",
      "\u001b[1;32m~\\anaconda3\\lib\\site-packages\\sklearn\\model_selection\\_split.py\u001b[0m in \u001b[0;36m_iter_test_masks\u001b[1;34m(self, X, y, groups)\u001b[0m\n\u001b[0;32m    711\u001b[0m \u001b[1;33m\u001b[0m\u001b[0m\n\u001b[0;32m    712\u001b[0m     \u001b[1;32mdef\u001b[0m \u001b[0m_iter_test_masks\u001b[0m\u001b[1;33m(\u001b[0m\u001b[0mself\u001b[0m\u001b[1;33m,\u001b[0m \u001b[0mX\u001b[0m\u001b[1;33m,\u001b[0m \u001b[0my\u001b[0m\u001b[1;33m=\u001b[0m\u001b[1;32mNone\u001b[0m\u001b[1;33m,\u001b[0m \u001b[0mgroups\u001b[0m\u001b[1;33m=\u001b[0m\u001b[1;32mNone\u001b[0m\u001b[1;33m)\u001b[0m\u001b[1;33m:\u001b[0m\u001b[1;33m\u001b[0m\u001b[1;33m\u001b[0m\u001b[0m\n\u001b[1;32m--> 713\u001b[1;33m         \u001b[0mtest_folds\u001b[0m \u001b[1;33m=\u001b[0m \u001b[0mself\u001b[0m\u001b[1;33m.\u001b[0m\u001b[0m_make_test_folds\u001b[0m\u001b[1;33m(\u001b[0m\u001b[0mX\u001b[0m\u001b[1;33m,\u001b[0m \u001b[0my\u001b[0m\u001b[1;33m)\u001b[0m\u001b[1;33m\u001b[0m\u001b[1;33m\u001b[0m\u001b[0m\n\u001b[0m\u001b[0;32m    714\u001b[0m         \u001b[1;32mfor\u001b[0m \u001b[0mi\u001b[0m \u001b[1;32min\u001b[0m \u001b[0mrange\u001b[0m\u001b[1;33m(\u001b[0m\u001b[0mself\u001b[0m\u001b[1;33m.\u001b[0m\u001b[0mn_splits\u001b[0m\u001b[1;33m)\u001b[0m\u001b[1;33m:\u001b[0m\u001b[1;33m\u001b[0m\u001b[1;33m\u001b[0m\u001b[0m\n\u001b[0;32m    715\u001b[0m             \u001b[1;32myield\u001b[0m \u001b[0mtest_folds\u001b[0m \u001b[1;33m==\u001b[0m \u001b[0mi\u001b[0m\u001b[1;33m\u001b[0m\u001b[1;33m\u001b[0m\u001b[0m\n",
      "\u001b[1;32m~\\anaconda3\\lib\\site-packages\\sklearn\\model_selection\\_split.py\u001b[0m in \u001b[0;36m_make_test_folds\u001b[1;34m(self, X, y)\u001b[0m\n\u001b[0;32m    673\u001b[0m         \u001b[0mmin_groups\u001b[0m \u001b[1;33m=\u001b[0m \u001b[0mnp\u001b[0m\u001b[1;33m.\u001b[0m\u001b[0mmin\u001b[0m\u001b[1;33m(\u001b[0m\u001b[0my_counts\u001b[0m\u001b[1;33m)\u001b[0m\u001b[1;33m\u001b[0m\u001b[1;33m\u001b[0m\u001b[0m\n\u001b[0;32m    674\u001b[0m         \u001b[1;32mif\u001b[0m \u001b[0mnp\u001b[0m\u001b[1;33m.\u001b[0m\u001b[0mall\u001b[0m\u001b[1;33m(\u001b[0m\u001b[0mself\u001b[0m\u001b[1;33m.\u001b[0m\u001b[0mn_splits\u001b[0m \u001b[1;33m>\u001b[0m \u001b[0my_counts\u001b[0m\u001b[1;33m)\u001b[0m\u001b[1;33m:\u001b[0m\u001b[1;33m\u001b[0m\u001b[1;33m\u001b[0m\u001b[0m\n\u001b[1;32m--> 675\u001b[1;33m             raise ValueError(\n\u001b[0m\u001b[0;32m    676\u001b[0m                 \u001b[1;34m\"n_splits=%d cannot be greater than the\"\u001b[0m\u001b[1;33m\u001b[0m\u001b[1;33m\u001b[0m\u001b[0m\n\u001b[0;32m    677\u001b[0m                 \u001b[1;34m\" number of members in each class.\"\u001b[0m \u001b[1;33m%\u001b[0m \u001b[1;33m(\u001b[0m\u001b[0mself\u001b[0m\u001b[1;33m.\u001b[0m\u001b[0mn_splits\u001b[0m\u001b[1;33m)\u001b[0m\u001b[1;33m\u001b[0m\u001b[1;33m\u001b[0m\u001b[0m\n",
      "\u001b[1;31mValueError\u001b[0m: n_splits=6 cannot be greater than the number of members in each class."
     ]
    }
   ],
   "source": [
    "for j in range (2,10):\n",
    "    lsscore=cross_val_score(lr,x,y,cv=j)\n",
    "    lsc=lsscore.mean()\n",
    "    print(\"At cv:-\",j)\n",
    "    print(\"cross validation score is:-\",lsc*100)\n",
    "    print(\"accuracy_score is:-\",lss*100)\n",
    "    print(\"\\n\")"
   ]
  },
  {
   "cell_type": "markdown",
   "id": "a8c5fec2",
   "metadata": {},
   "source": [
    "since cross validation score accuracy are almost same.we are heading with good approach"
   ]
  },
  {
   "cell_type": "code",
   "execution_count": null,
   "id": "67a02dae",
   "metadata": {},
   "outputs": [],
   "source": [
    "lsscore_selected=cross_val_score(lr,x,y,cv=2).mean()\n",
    "print(\"The cv score is:\", lsscore_selected,\"\\nThe accuracy score is:\",lss)"
   ]
  },
  {
   "cell_type": "markdown",
   "id": "1ea1cc61",
   "metadata": {},
   "source": [
    "# The model with the outliers:\n",
    "# AUC ROC Curve"
   ]
  },
  {
   "cell_type": "code",
   "execution_count": 68,
   "id": "28697422",
   "metadata": {},
   "outputs": [
    {
     "ename": "ValueError",
     "evalue": "multiclass format is not supported",
     "output_type": "error",
     "traceback": [
      "\u001b[1;31m---------------------------------------------------------------------------\u001b[0m",
      "\u001b[1;31mValueError\u001b[0m                                Traceback (most recent call last)",
      "\u001b[1;32m~\\AppData\\Local\\Temp/ipykernel_10236/4114267766.py\u001b[0m in \u001b[0;36m<module>\u001b[1;34m\u001b[0m\n\u001b[0;32m      1\u001b[0m \u001b[1;32mfrom\u001b[0m \u001b[0msklearn\u001b[0m\u001b[1;33m.\u001b[0m\u001b[0mmetrics\u001b[0m \u001b[1;32mimport\u001b[0m \u001b[0mroc_curve\u001b[0m\u001b[1;33m,\u001b[0m\u001b[0mauc\u001b[0m\u001b[1;33m\u001b[0m\u001b[1;33m\u001b[0m\u001b[0m\n\u001b[1;32m----> 2\u001b[1;33m \u001b[0mfpr\u001b[0m\u001b[1;33m,\u001b[0m\u001b[0mtpr\u001b[0m\u001b[1;33m,\u001b[0m\u001b[0mthresholds\u001b[0m\u001b[1;33m=\u001b[0m\u001b[0mroc_curve\u001b[0m\u001b[1;33m(\u001b[0m\u001b[0mpred_test\u001b[0m\u001b[1;33m,\u001b[0m\u001b[0my_test\u001b[0m\u001b[1;33m)\u001b[0m\u001b[1;33m\u001b[0m\u001b[1;33m\u001b[0m\u001b[0m\n\u001b[0m\u001b[0;32m      3\u001b[0m \u001b[0mroc_auc\u001b[0m\u001b[1;33m=\u001b[0m\u001b[0mauc\u001b[0m\u001b[1;33m(\u001b[0m\u001b[0mfpr\u001b[0m\u001b[1;33m,\u001b[0m\u001b[0mtpr\u001b[0m\u001b[1;33m)\u001b[0m\u001b[1;33m\u001b[0m\u001b[1;33m\u001b[0m\u001b[0m\n\u001b[0;32m      4\u001b[0m \u001b[0mplt\u001b[0m\u001b[1;33m.\u001b[0m\u001b[0mfigure\u001b[0m\u001b[1;33m(\u001b[0m\u001b[1;33m)\u001b[0m\u001b[1;33m\u001b[0m\u001b[1;33m\u001b[0m\u001b[0m\n\u001b[0;32m      5\u001b[0m \u001b[0mplt\u001b[0m\u001b[1;33m.\u001b[0m\u001b[0mplot\u001b[0m\u001b[1;33m(\u001b[0m\u001b[0mfpr\u001b[0m\u001b[1;33m,\u001b[0m\u001b[0mtpr\u001b[0m\u001b[1;33m,\u001b[0m\u001b[0mcolor\u001b[0m\u001b[1;33m=\u001b[0m\u001b[1;34m'darkorange'\u001b[0m\u001b[1;33m,\u001b[0m\u001b[0mlw\u001b[0m\u001b[1;33m=\u001b[0m\u001b[1;36m10\u001b[0m\u001b[1;33m,\u001b[0m\u001b[0mlabel\u001b[0m\u001b[1;33m=\u001b[0m\u001b[1;34m'ROC curve(area=%0.2f)'\u001b[0m \u001b[1;33m%\u001b[0m \u001b[0mroc_auc\u001b[0m\u001b[1;33m)\u001b[0m\u001b[1;33m\u001b[0m\u001b[1;33m\u001b[0m\u001b[0m\n",
      "\u001b[1;32m~\\anaconda3\\lib\\site-packages\\sklearn\\metrics\\_ranking.py\u001b[0m in \u001b[0;36mroc_curve\u001b[1;34m(y_true, y_score, pos_label, sample_weight, drop_intermediate)\u001b[0m\n\u001b[0;32m    977\u001b[0m \u001b[1;33m\u001b[0m\u001b[0m\n\u001b[0;32m    978\u001b[0m     \"\"\"\n\u001b[1;32m--> 979\u001b[1;33m     fps, tps, thresholds = _binary_clf_curve(\n\u001b[0m\u001b[0;32m    980\u001b[0m         \u001b[0my_true\u001b[0m\u001b[1;33m,\u001b[0m \u001b[0my_score\u001b[0m\u001b[1;33m,\u001b[0m \u001b[0mpos_label\u001b[0m\u001b[1;33m=\u001b[0m\u001b[0mpos_label\u001b[0m\u001b[1;33m,\u001b[0m \u001b[0msample_weight\u001b[0m\u001b[1;33m=\u001b[0m\u001b[0msample_weight\u001b[0m\u001b[1;33m\u001b[0m\u001b[1;33m\u001b[0m\u001b[0m\n\u001b[0;32m    981\u001b[0m     )\n",
      "\u001b[1;32m~\\anaconda3\\lib\\site-packages\\sklearn\\metrics\\_ranking.py\u001b[0m in \u001b[0;36m_binary_clf_curve\u001b[1;34m(y_true, y_score, pos_label, sample_weight)\u001b[0m\n\u001b[0;32m    736\u001b[0m     \u001b[0my_type\u001b[0m \u001b[1;33m=\u001b[0m \u001b[0mtype_of_target\u001b[0m\u001b[1;33m(\u001b[0m\u001b[0my_true\u001b[0m\u001b[1;33m,\u001b[0m \u001b[0minput_name\u001b[0m\u001b[1;33m=\u001b[0m\u001b[1;34m\"y_true\"\u001b[0m\u001b[1;33m)\u001b[0m\u001b[1;33m\u001b[0m\u001b[1;33m\u001b[0m\u001b[0m\n\u001b[0;32m    737\u001b[0m     \u001b[1;32mif\u001b[0m \u001b[1;32mnot\u001b[0m \u001b[1;33m(\u001b[0m\u001b[0my_type\u001b[0m \u001b[1;33m==\u001b[0m \u001b[1;34m\"binary\"\u001b[0m \u001b[1;32mor\u001b[0m \u001b[1;33m(\u001b[0m\u001b[0my_type\u001b[0m \u001b[1;33m==\u001b[0m \u001b[1;34m\"multiclass\"\u001b[0m \u001b[1;32mand\u001b[0m \u001b[0mpos_label\u001b[0m \u001b[1;32mis\u001b[0m \u001b[1;32mnot\u001b[0m \u001b[1;32mNone\u001b[0m\u001b[1;33m)\u001b[0m\u001b[1;33m)\u001b[0m\u001b[1;33m:\u001b[0m\u001b[1;33m\u001b[0m\u001b[1;33m\u001b[0m\u001b[0m\n\u001b[1;32m--> 738\u001b[1;33m         \u001b[1;32mraise\u001b[0m \u001b[0mValueError\u001b[0m\u001b[1;33m(\u001b[0m\u001b[1;34m\"{0} format is not supported\"\u001b[0m\u001b[1;33m.\u001b[0m\u001b[0mformat\u001b[0m\u001b[1;33m(\u001b[0m\u001b[0my_type\u001b[0m\u001b[1;33m)\u001b[0m\u001b[1;33m)\u001b[0m\u001b[1;33m\u001b[0m\u001b[1;33m\u001b[0m\u001b[0m\n\u001b[0m\u001b[0;32m    739\u001b[0m \u001b[1;33m\u001b[0m\u001b[0m\n\u001b[0;32m    740\u001b[0m     \u001b[0mcheck_consistent_length\u001b[0m\u001b[1;33m(\u001b[0m\u001b[0my_true\u001b[0m\u001b[1;33m,\u001b[0m \u001b[0my_score\u001b[0m\u001b[1;33m,\u001b[0m \u001b[0msample_weight\u001b[0m\u001b[1;33m)\u001b[0m\u001b[1;33m\u001b[0m\u001b[1;33m\u001b[0m\u001b[0m\n",
      "\u001b[1;31mValueError\u001b[0m: multiclass format is not supported"
     ]
    }
   ],
   "source": [
    "from sklearn.metrics import roc_curve,auc\n",
    "fpr,tpr,thresholds=roc_curve(pred_test,y_test)\n",
    "roc_auc=auc(fpr,tpr)\n",
    "plt.figure()\n",
    "plt.plot(fpr,tpr,color='darkorange',lw=10,label='ROC curve(area=%0.2f)' % roc_auc)\n",
    "plt.plot([0,1],[0,1],color='navy',lw=10,linestyle='--')\n",
    "plt.xlim([0.0,1.0])\n",
    "plt.ylim([0.0,1.05])\n",
    "plt.xlabel('False positive Rate')\n",
    "plt.ylabel('True positive rate')\n",
    "plt.title('Receiver operating characteristic')\n",
    "plt.legend(loc=\"lower right\")\n",
    "plt.show()"
   ]
  },
  {
   "cell_type": "markdown",
   "id": "f484cc29",
   "metadata": {},
   "source": [
    "# Since the model without outliers performing well! we will select that dataframe"
   ]
  },
  {
   "cell_type": "markdown",
   "id": "672a326c",
   "metadata": {},
   "source": [
    "# Model saving:"
   ]
  },
  {
   "cell_type": "code",
   "execution_count": 69,
   "id": "10d4cba6",
   "metadata": {},
   "outputs": [],
   "source": [
    "import pickle\n",
    "filename='inhouse_diabetes.pkl'\n",
    "pickle.dump(lr,open(filename,'wb'))"
   ]
  },
  {
   "cell_type": "markdown",
   "id": "9394acab",
   "metadata": {},
   "source": [
    "# Conclusion"
   ]
  },
  {
   "cell_type": "code",
   "execution_count": 70,
   "id": "94272b4f",
   "metadata": {},
   "outputs": [
    {
     "data": {
      "text/html": [
       "<div>\n",
       "<style scoped>\n",
       "    .dataframe tbody tr th:only-of-type {\n",
       "        vertical-align: middle;\n",
       "    }\n",
       "\n",
       "    .dataframe tbody tr th {\n",
       "        vertical-align: top;\n",
       "    }\n",
       "\n",
       "    .dataframe thead th {\n",
       "        text-align: right;\n",
       "    }\n",
       "</style>\n",
       "<table border=\"1\" class=\"dataframe\">\n",
       "  <thead>\n",
       "    <tr style=\"text-align: right;\">\n",
       "      <th></th>\n",
       "      <th>original</th>\n",
       "      <th>predicted</th>\n",
       "    </tr>\n",
       "  </thead>\n",
       "  <tbody>\n",
       "    <tr>\n",
       "      <th>0</th>\n",
       "      <td>104350</td>\n",
       "      <td>74000</td>\n",
       "    </tr>\n",
       "    <tr>\n",
       "      <th>1</th>\n",
       "      <td>88650</td>\n",
       "      <td>92000</td>\n",
       "    </tr>\n",
       "    <tr>\n",
       "      <th>2</th>\n",
       "      <td>86895</td>\n",
       "      <td>92000</td>\n",
       "    </tr>\n",
       "    <tr>\n",
       "      <th>3</th>\n",
       "      <td>71065</td>\n",
       "      <td>74000</td>\n",
       "    </tr>\n",
       "    <tr>\n",
       "      <th>4</th>\n",
       "      <td>94350</td>\n",
       "      <td>105000</td>\n",
       "    </tr>\n",
       "    <tr>\n",
       "      <th>...</th>\n",
       "      <td>...</td>\n",
       "      <td>...</td>\n",
       "    </tr>\n",
       "    <tr>\n",
       "      <th>74</th>\n",
       "      <td>126933</td>\n",
       "      <td>163200</td>\n",
       "    </tr>\n",
       "    <tr>\n",
       "      <th>75</th>\n",
       "      <td>105000</td>\n",
       "      <td>72500</td>\n",
       "    </tr>\n",
       "    <tr>\n",
       "      <th>76</th>\n",
       "      <td>62884</td>\n",
       "      <td>163200</td>\n",
       "    </tr>\n",
       "    <tr>\n",
       "      <th>77</th>\n",
       "      <td>137317</td>\n",
       "      <td>105000</td>\n",
       "    </tr>\n",
       "    <tr>\n",
       "      <th>78</th>\n",
       "      <td>92700</td>\n",
       "      <td>92000</td>\n",
       "    </tr>\n",
       "  </tbody>\n",
       "</table>\n",
       "<p>79 rows × 2 columns</p>\n",
       "</div>"
      ],
      "text/plain": [
       "    original  predicted\n",
       "0     104350      74000\n",
       "1      88650      92000\n",
       "2      86895      92000\n",
       "3      71065      74000\n",
       "4      94350     105000\n",
       "..       ...        ...\n",
       "74    126933     163200\n",
       "75    105000      72500\n",
       "76     62884     163200\n",
       "77    137317     105000\n",
       "78     92700      92000\n",
       "\n",
       "[79 rows x 2 columns]"
      ]
     },
     "execution_count": 70,
     "metadata": {},
     "output_type": "execute_result"
    }
   ],
   "source": [
    "import numpy as np\n",
    "a=np.array(y_test)\n",
    "predicted=np.array(lr.predict(x_test))\n",
    "df_com=pd.DataFrame({\"original\":a,\"predicted\":predicted},index=range(len(a)))\n",
    "df_com"
   ]
  },
  {
   "cell_type": "code",
   "execution_count": null,
   "id": "e596a54f",
   "metadata": {},
   "outputs": [],
   "source": []
  }
 ],
 "metadata": {
  "kernelspec": {
   "display_name": "Python 3 (ipykernel)",
   "language": "python",
   "name": "python3"
  },
  "language_info": {
   "codemirror_mode": {
    "name": "ipython",
    "version": 3
   },
   "file_extension": ".py",
   "mimetype": "text/x-python",
   "name": "python",
   "nbconvert_exporter": "python",
   "pygments_lexer": "ipython3",
   "version": "3.9.7"
  }
 },
 "nbformat": 4,
 "nbformat_minor": 5
}
